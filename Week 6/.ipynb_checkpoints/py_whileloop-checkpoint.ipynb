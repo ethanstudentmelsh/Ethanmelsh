{
 "cells": [
  {
   "cell_type": "markdown",
   "metadata": {},
   "source": [
    "# Ethan Melsheimer\n",
    "## 2/21/2023\n",
    "### Python While Loop"
   ]
  },
  {
   "cell_type": "markdown",
   "metadata": {},
   "source": [
    "***The general format of Python while loops:***\n",
    "    \n",
    "<code>while test:\n",
    "            statements </code>"
   ]
  },
  {
   "cell_type": "code",
   "execution_count": 3,
   "metadata": {},
   "outputs": [
    {
     "name": "stdout",
     "output_type": "stream",
     "text": [
      "2\n",
      "3\n",
      "4\n",
      "5\n",
      "6\n",
      "7\n",
      "8\n"
     ]
    }
   ],
   "source": [
    "ls = [2,3,4,5,6,7,8]\n",
    "idx = 0\n",
    "while idx < len(ls):\n",
    "    print(ls[idx])\n",
    "    idx = idx + 1"
   ]
  },
  {
   "cell_type": "code",
   "execution_count": 1,
   "metadata": {},
   "outputs": [
    {
     "name": "stdout",
     "output_type": "stream",
     "text": [
      "1\n",
      "2\n",
      "3\n",
      "4\n",
      "5\n",
      "6\n",
      "7\n",
      "8\n",
      "9\n",
      "10\n"
     ]
    }
   ],
   "source": [
    "num = 1\n",
    "while num <= 10:\n",
    "    print(num)\n",
    "    num += 1"
   ]
  },
  {
   "cell_type": "code",
   "execution_count": 3,
   "metadata": {},
   "outputs": [
    {
     "name": "stdout",
     "output_type": "stream",
     "text": [
      "sum= 47, and average= 5\n"
     ]
    }
   ],
   "source": [
    "ls = [2,3,5,6,7,3,4,8,9]\n",
    "i, s, = 0,0\n",
    "\n",
    "while i < len(ls):\n",
    "    s+= ls[i] # s = s + ls[i]\n",
    "    i+=1 # i = i + 1\n",
    "    \n",
    "print(f'sum= {s}, and average= {int(s / len(ls))}')"
   ]
  },
  {
   "cell_type": "code",
   "execution_count": 5,
   "metadata": {},
   "outputs": [
    {
     "data": {
      "text/plain": [
       "[2, 3, 5, 6, 7, 3, 4, 8, 9]"
      ]
     },
     "execution_count": 5,
     "metadata": {},
     "output_type": "execute_result"
    }
   ],
   "source": [
    "ls"
   ]
  },
  {
   "cell_type": "code",
   "execution_count": 6,
   "metadata": {},
   "outputs": [
    {
     "name": "stdout",
     "output_type": "stream",
     "text": [
      "9\n",
      "8\n",
      "4\n",
      "3\n",
      "7\n",
      "6\n",
      "5\n",
      "3\n",
      "2\n"
     ]
    }
   ],
   "source": [
    "while ls:\n",
    "    print(ls.pop())"
   ]
  },
  {
   "cell_type": "code",
   "execution_count": 7,
   "metadata": {},
   "outputs": [
    {
     "data": {
      "text/plain": [
       "[]"
      ]
     },
     "execution_count": 7,
     "metadata": {},
     "output_type": "execute_result"
    }
   ],
   "source": [
    "ls"
   ]
  },
  {
   "cell_type": "code",
   "execution_count": 8,
   "metadata": {},
   "outputs": [
    {
     "name": "stdout",
     "output_type": "stream",
     "text": [
      "stringcis310DataAnalytics, and the length is 19\n"
     ]
    }
   ],
   "source": [
    "s = 'cis310DataAnalytics'\n",
    "print(f'string{s}, and the length is {len(s)}')"
   ]
  },
  {
   "cell_type": "code",
   "execution_count": 10,
   "metadata": {},
   "outputs": [
    {
     "data": {
      "text/plain": [
       "'cis310DataAnalytics'"
      ]
     },
     "execution_count": 10,
     "metadata": {},
     "output_type": "execute_result"
    }
   ],
   "source": [
    "# continue and break keywords\n",
    "s"
   ]
  },
  {
   "cell_type": "code",
   "execution_count": 12,
   "metadata": {},
   "outputs": [
    {
     "name": "stdout",
     "output_type": "stream",
     "text": [
      "Letter=  c\n",
      "Letter=  i\n",
      "Letter=  s\n",
      "Letter=  3\n",
      "Letter=  1\n",
      "Letter=  0\n",
      "Letter=  D\n",
      "Letter=  a\n",
      "Letter=  a\n",
      "Letter=  n\n",
      "Letter=  a\n",
      "Letter=  l\n",
      "Letter=  y\n",
      "Letter=  i\n",
      "Letter=  c\n",
      "Letter=  s\n"
     ]
    }
   ],
   "source": [
    "i = 0\n",
    "while i < len(s):\n",
    "    if s[i] == 'A' or s[i] == 't':\n",
    "        i+=1\n",
    "        continue\n",
    "    else:\n",
    "        print('Letter= ',s[i])\n",
    "        i+=1"
   ]
  },
  {
   "cell_type": "code",
   "execution_count": 13,
   "metadata": {},
   "outputs": [
    {
     "name": "stdout",
     "output_type": "stream",
     "text": [
      "Enter a number, -1 to quit): 40\n",
      "a=  40\n",
      "Enter a number, -1 to quit: 50\n",
      "a=  50\n",
      "Enter a number, -1 to quit: 66\n",
      "a=  66\n",
      "Enter a number, -1 to quit: 89\n",
      "a=  89\n",
      "Enter a number, -1 to quit: -1\n",
      "s=  245\n"
     ]
    }
   ],
   "source": [
    "a = int(input('Enter a number, -1 to quit): '))\n",
    "s = 0\n",
    "while a != -1:\n",
    "    s+=a\n",
    "    print('a= ', a)\n",
    "    a = int(input('Enter a number, -1 to quit: '))\n",
    "print('s= ', s)"
   ]
  },
  {
   "cell_type": "code",
   "execution_count": null,
   "metadata": {},
   "outputs": [],
   "source": []
  }
 ],
 "metadata": {
  "kernelspec": {
   "display_name": "Python 3.7 - default",
   "language": "python",
   "name": "py37_default"
  },
  "language_info": {
   "codemirror_mode": {
    "name": "ipython",
    "version": 3
   },
   "file_extension": ".py",
   "mimetype": "text/x-python",
   "name": "python",
   "nbconvert_exporter": "python",
   "pygments_lexer": "ipython3",
   "version": "3.7.7"
  }
 },
 "nbformat": 4,
 "nbformat_minor": 4
}
