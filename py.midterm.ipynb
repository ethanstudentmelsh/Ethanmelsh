{
 "cells": [
  {
   "cell_type": "code",
   "execution_count": 1,
   "metadata": {},
   "outputs": [
    {
     "data": {
      "text/plain": [
       "'C:\\\\Users\\\\andaconda\\\\notebooks'"
      ]
     },
     "execution_count": 1,
     "metadata": {},
     "output_type": "execute_result"
    }
   ],
   "source": [
    "pwd"
   ]
  },
  {
   "cell_type": "code",
   "execution_count": 2,
   "metadata": {},
   "outputs": [
    {
     "name": "stdout",
     "output_type": "stream",
     "text": [
      " Volume in drive C is Windows\n",
      " Volume Serial Number is 5C98-3B99\n",
      "\n",
      " Directory of C:\\Users\\andaconda\\notebooks\n",
      "\n",
      "02/17/2023  06:39 PM    <DIR>          .\n",
      "02/17/2023  06:39 PM    <DIR>          ..\n",
      "02/14/2023  07:31 PM    <DIR>          .ipynb_checkpoints\n",
      "07/21/2020  04:54 PM    <DIR>          AzureML\n",
      "02/12/2023  06:54 PM             5,683 Practice.ipynb\n",
      "               1 File(s)          5,683 bytes\n",
      "               4 Dir(s)  28,632,625,152 bytes free\n"
     ]
    }
   ],
   "source": [
    "ls"
   ]
  },
  {
   "cell_type": "code",
   "execution_count": null,
   "metadata": {},
   "outputs": [],
   "source": [
    "f = open(\"FnameLname_MidtermExam-3\")"
   ]
  }
 ],
 "metadata": {
  "kernelspec": {
   "display_name": "Python 3.7 - default",
   "language": "python",
   "name": "py37_default"
  },
  "language_info": {
   "codemirror_mode": {
    "name": "ipython",
    "version": 3
   },
   "file_extension": ".py",
   "mimetype": "text/x-python",
   "name": "python",
   "nbconvert_exporter": "python",
   "pygments_lexer": "ipython3",
   "version": "3.7.7"
  }
 },
 "nbformat": 4,
 "nbformat_minor": 4
}
