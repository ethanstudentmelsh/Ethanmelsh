{
 "cells": [
  {
   "cell_type": "markdown",
   "metadata": {},
   "source": [
    "# Ethan Melsheimer\n",
    "## 2/16/2023\n",
    "### Python Statements For Loop"
   ]
  },
  {
   "cell_type": "markdown",
   "metadata": {},
   "source": [
    "**General for loops format:**\n",
    "\n",
    "    <code> for item in object:\n",
    "        statements to execute </code>"
   ]
  },
  {
   "cell_type": "code",
   "execution_count": 1,
   "metadata": {},
   "outputs": [],
   "source": [
    "sc = [68,87,90,89,92,78,88,75,79,85]"
   ]
  },
  {
   "cell_type": "code",
   "execution_count": 2,
   "metadata": {},
   "outputs": [
    {
     "name": "stdout",
     "output_type": "stream",
     "text": [
      "n= 68\n",
      "n= 87\n",
      "n= 90\n",
      "n= 89\n",
      "n= 92\n",
      "n= 78\n",
      "n= 88\n",
      "n= 75\n",
      "n= 79\n",
      "n= 85\n"
     ]
    }
   ],
   "source": [
    "for n in sc:\n",
    "    print(\"n=\", n)"
   ]
  },
  {
   "cell_type": "code",
   "execution_count": 8,
   "metadata": {},
   "outputs": [
    {
     "name": "stdout",
     "output_type": "stream",
     "text": [
      "I   a m   a   s t u d e n t   i n   C I S 3 1 0 ! \n",
      "Done!\n"
     ]
    }
   ],
   "source": [
    "for l in \"I am a student in CIS310!\":\n",
    "    print(l,end=\" \")\n",
    "    \n",
    "print(\"\\nDone!\")"
   ]
  },
  {
   "cell_type": "code",
   "execution_count": 9,
   "metadata": {},
   "outputs": [
    {
     "data": {
      "text/plain": [
       "[68, 87, 90, 89, 92, 78, 88, 75, 79, 85]"
      ]
     },
     "execution_count": 9,
     "metadata": {},
     "output_type": "execute_result"
    }
   ],
   "source": [
    "sc"
   ]
  },
  {
   "cell_type": "code",
   "execution_count": 10,
   "metadata": {},
   "outputs": [
    {
     "data": {
      "text/plain": [
       "True"
      ]
     },
     "execution_count": 10,
     "metadata": {},
     "output_type": "execute_result"
    }
   ],
   "source": [
    "4 % 2 == 0"
   ]
  },
  {
   "cell_type": "code",
   "execution_count": 11,
   "metadata": {},
   "outputs": [
    {
     "data": {
      "text/plain": [
       "False"
      ]
     },
     "execution_count": 11,
     "metadata": {},
     "output_type": "execute_result"
    }
   ],
   "source": [
    "5 % 2 == 0"
   ]
  },
  {
   "cell_type": "code",
   "execution_count": 12,
   "metadata": {},
   "outputs": [
    {
     "name": "stdout",
     "output_type": "stream",
     "text": [
      "n= 68\n",
      "n= 87\n",
      "n= 90\n",
      "n= 89\n",
      "n= 92\n",
      "n= 78\n",
      "n= 88\n",
      "n= 75\n",
      "n= 79\n",
      "n= 85\n"
     ]
    }
   ],
   "source": [
    "for n in sc:\n",
    "    print(\"n=\",n)"
   ]
  },
  {
   "cell_type": "code",
   "execution_count": 14,
   "metadata": {},
   "outputs": [
    {
     "name": "stdout",
     "output_type": "stream",
     "text": [
      "n= 68\n",
      "87  is odd score!\n",
      "n= 90\n",
      "89  is odd score!\n",
      "n= 92\n",
      "n= 78\n",
      "n= 88\n",
      "75  is odd score!\n",
      "79  is odd score!\n",
      "85  is odd score!\n"
     ]
    }
   ],
   "source": [
    "for n in sc:\n",
    "    if n % 2 == 0:\n",
    "        print(\"n=\",n)\n",
    "    else:\n",
    "        print(n,\" is odd score!\")"
   ]
  },
  {
   "cell_type": "code",
   "execution_count": 18,
   "metadata": {},
   "outputs": [
    {
     "name": "stdout",
     "output_type": "stream",
     "text": [
      "n= 68\n",
      "87  is odd score!\n",
      "n= 90\n",
      "89  is odd score!\n",
      "n= 92\n",
      "n= 78\n",
      "n= 88\n",
      "75  is odd score!\n",
      "79  is odd score!\n",
      "85  is odd score!\n",
      "even list:  [68, 90, 92, 78, 88]\n",
      "odd list:  [87, 89, 75, 79, 85]\n"
     ]
    }
   ],
   "source": [
    "even =[]\n",
    "odd =[]\n",
    "for n in sc:\n",
    "    if n % 2 == 0:\n",
    "        print(\"n=\",n)\n",
    "        even.append(n)\n",
    "    else:\n",
    "        print(n,\" is odd score!\")\n",
    "        odd.append(n)\n",
    "        \n",
    "print('even list: ', even)\n",
    "print('odd list: ', odd)"
   ]
  },
  {
   "cell_type": "code",
   "execution_count": 19,
   "metadata": {},
   "outputs": [
    {
     "data": {
      "text/plain": [
       "[68, 87, 90, 89, 92, 78, 88, 75, 79, 85]"
      ]
     },
     "execution_count": 19,
     "metadata": {},
     "output_type": "execute_result"
    }
   ],
   "source": [
    "sc"
   ]
  },
  {
   "cell_type": "code",
   "execution_count": 20,
   "metadata": {},
   "outputs": [
    {
     "name": "stdout",
     "output_type": "stream",
     "text": [
      "sum=  831\n"
     ]
    }
   ],
   "source": [
    "sum=0\n",
    "for n in sc:\n",
    "    sum = sum + n\n",
    "    \n",
    "print(\"sum= \", sum)"
   ]
  },
  {
   "cell_type": "code",
   "execution_count": 22,
   "metadata": {},
   "outputs": [
    {
     "name": "stdout",
     "output_type": "stream",
     "text": [
      "avg= 83.1\n"
     ]
    }
   ],
   "source": [
    "avg = sum / len(sc)\n",
    "print('avg=', avg)"
   ]
  },
  {
   "cell_type": "code",
   "execution_count": 24,
   "metadata": {},
   "outputs": [
    {
     "name": "stdout",
     "output_type": "stream",
     "text": [
      "5\n",
      "7\n",
      "9\n",
      "10\n",
      "14\n"
     ]
    }
   ],
   "source": [
    "t  = (5,7,9,10,14)\n",
    "for n in t:\n",
    "    print(n)"
   ]
  },
  {
   "cell_type": "code",
   "execution_count": 25,
   "metadata": {},
   "outputs": [],
   "source": [
    "ls1 = [10,30,50,70,90]\n",
    "ls2 = [20,40,60,80,100]\n",
    "ls = list(zip(ls1,ls2))"
   ]
  },
  {
   "cell_type": "code",
   "execution_count": 26,
   "metadata": {},
   "outputs": [
    {
     "data": {
      "text/plain": [
       "[(10, 20), (30, 40), (50, 60), (70, 80), (90, 100)]"
      ]
     },
     "execution_count": 26,
     "metadata": {},
     "output_type": "execute_result"
    }
   ],
   "source": [
    "ls"
   ]
  },
  {
   "cell_type": "code",
   "execution_count": null,
   "metadata": {},
   "outputs": [],
   "source": []
  }
 ],
 "metadata": {
  "kernelspec": {
   "display_name": "Python 3.7 - default",
   "language": "python",
   "name": "py37_default"
  },
  "language_info": {
   "codemirror_mode": {
    "name": "ipython",
    "version": 3
   },
   "file_extension": ".py",
   "mimetype": "text/x-python",
   "name": "python",
   "nbconvert_exporter": "python",
   "pygments_lexer": "ipython3",
   "version": "3.7.7"
  }
 },
 "nbformat": 4,
 "nbformat_minor": 4
}
