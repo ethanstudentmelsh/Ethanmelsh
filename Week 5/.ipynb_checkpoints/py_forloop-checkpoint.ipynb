{
 "cells": [
  {
   "cell_type": "markdown",
   "metadata": {},
   "source": [
    "# Ethan Melsheimer\n",
    "## 2/16/2023 - 2/21/2023\n",
    "### Python Statements For Loop"
   ]
  },
  {
   "cell_type": "markdown",
   "metadata": {},
   "source": [
    "**General for loops format:**\n",
    "\n",
    "    <code> for item in object:\n",
    "        statements to execute </code>"
   ]
  },
  {
   "cell_type": "code",
   "execution_count": 1,
   "metadata": {},
   "outputs": [],
   "source": [
    "sc = [68,87,90,89,92,78,88,75,79,85]"
   ]
  },
  {
   "cell_type": "code",
   "execution_count": 2,
   "metadata": {},
   "outputs": [
    {
     "name": "stdout",
     "output_type": "stream",
     "text": [
      "n= 68\n",
      "n= 87\n",
      "n= 90\n",
      "n= 89\n",
      "n= 92\n",
      "n= 78\n",
      "n= 88\n",
      "n= 75\n",
      "n= 79\n",
      "n= 85\n"
     ]
    }
   ],
   "source": [
    "for n in sc:\n",
    "    print(\"n=\", n)"
   ]
  },
  {
   "cell_type": "code",
   "execution_count": 8,
   "metadata": {},
   "outputs": [
    {
     "name": "stdout",
     "output_type": "stream",
     "text": [
      "I   a m   a   s t u d e n t   i n   C I S 3 1 0 ! \n",
      "Done!\n"
     ]
    }
   ],
   "source": [
    "for l in \"I am a student in CIS310!\":\n",
    "    print(l,end=\" \")\n",
    "    \n",
    "print(\"\\nDone!\")"
   ]
  },
  {
   "cell_type": "code",
   "execution_count": 9,
   "metadata": {},
   "outputs": [
    {
     "data": {
      "text/plain": [
       "[68, 87, 90, 89, 92, 78, 88, 75, 79, 85]"
      ]
     },
     "execution_count": 9,
     "metadata": {},
     "output_type": "execute_result"
    }
   ],
   "source": [
    "sc"
   ]
  },
  {
   "cell_type": "code",
   "execution_count": 10,
   "metadata": {},
   "outputs": [
    {
     "data": {
      "text/plain": [
       "True"
      ]
     },
     "execution_count": 10,
     "metadata": {},
     "output_type": "execute_result"
    }
   ],
   "source": [
    "4 % 2 == 0"
   ]
  },
  {
   "cell_type": "code",
   "execution_count": 11,
   "metadata": {},
   "outputs": [
    {
     "data": {
      "text/plain": [
       "False"
      ]
     },
     "execution_count": 11,
     "metadata": {},
     "output_type": "execute_result"
    }
   ],
   "source": [
    "5 % 2 == 0"
   ]
  },
  {
   "cell_type": "code",
   "execution_count": 12,
   "metadata": {},
   "outputs": [
    {
     "name": "stdout",
     "output_type": "stream",
     "text": [
      "n= 68\n",
      "n= 87\n",
      "n= 90\n",
      "n= 89\n",
      "n= 92\n",
      "n= 78\n",
      "n= 88\n",
      "n= 75\n",
      "n= 79\n",
      "n= 85\n"
     ]
    }
   ],
   "source": [
    "for n in sc:\n",
    "    print(\"n=\",n)"
   ]
  },
  {
   "cell_type": "code",
   "execution_count": 14,
   "metadata": {},
   "outputs": [
    {
     "name": "stdout",
     "output_type": "stream",
     "text": [
      "n= 68\n",
      "87  is odd score!\n",
      "n= 90\n",
      "89  is odd score!\n",
      "n= 92\n",
      "n= 78\n",
      "n= 88\n",
      "75  is odd score!\n",
      "79  is odd score!\n",
      "85  is odd score!\n"
     ]
    }
   ],
   "source": [
    "for n in sc:\n",
    "    if n % 2 == 0:\n",
    "        print(\"n=\",n)\n",
    "    else:\n",
    "        print(n,\" is odd score!\")"
   ]
  },
  {
   "cell_type": "code",
   "execution_count": 18,
   "metadata": {},
   "outputs": [
    {
     "name": "stdout",
     "output_type": "stream",
     "text": [
      "n= 68\n",
      "87  is odd score!\n",
      "n= 90\n",
      "89  is odd score!\n",
      "n= 92\n",
      "n= 78\n",
      "n= 88\n",
      "75  is odd score!\n",
      "79  is odd score!\n",
      "85  is odd score!\n",
      "even list:  [68, 90, 92, 78, 88]\n",
      "odd list:  [87, 89, 75, 79, 85]\n"
     ]
    }
   ],
   "source": [
    "even =[]\n",
    "odd =[]\n",
    "for n in sc:\n",
    "    if n % 2 == 0:\n",
    "        print(\"n=\",n)\n",
    "        even.append(n)\n",
    "    else:\n",
    "        print(n,\" is odd score!\")\n",
    "        odd.append(n)\n",
    "        \n",
    "print('even list: ', even)\n",
    "print('odd list: ', odd)"
   ]
  },
  {
   "cell_type": "code",
   "execution_count": 19,
   "metadata": {},
   "outputs": [
    {
     "data": {
      "text/plain": [
       "[68, 87, 90, 89, 92, 78, 88, 75, 79, 85]"
      ]
     },
     "execution_count": 19,
     "metadata": {},
     "output_type": "execute_result"
    }
   ],
   "source": [
    "sc"
   ]
  },
  {
   "cell_type": "code",
   "execution_count": 20,
   "metadata": {},
   "outputs": [
    {
     "name": "stdout",
     "output_type": "stream",
     "text": [
      "sum=  831\n"
     ]
    }
   ],
   "source": [
    "sum=0\n",
    "for n in sc:\n",
    "    sum = sum + n\n",
    "    \n",
    "print(\"sum= \", sum)"
   ]
  },
  {
   "cell_type": "code",
   "execution_count": 22,
   "metadata": {},
   "outputs": [
    {
     "name": "stdout",
     "output_type": "stream",
     "text": [
      "avg= 83.1\n"
     ]
    }
   ],
   "source": [
    "avg = sum / len(sc)\n",
    "print('avg=', avg)"
   ]
  },
  {
   "cell_type": "code",
   "execution_count": 2,
   "metadata": {},
   "outputs": [
    {
     "name": "stdout",
     "output_type": "stream",
     "text": [
      "5\n",
      "7\n",
      "9\n",
      "10\n",
      "14\n"
     ]
    }
   ],
   "source": [
    "t  = (5,7,9,10,14)\n",
    "for n in t:\n",
    "    print(n)"
   ]
  },
  {
   "cell_type": "code",
   "execution_count": 3,
   "metadata": {},
   "outputs": [],
   "source": [
    "ls1 = [10,30,50,70,90]\n",
    "ls2 = [20,40,60,80,100]\n",
    "ls = list(zip(ls1,ls2))"
   ]
  },
  {
   "cell_type": "code",
   "execution_count": 4,
   "metadata": {},
   "outputs": [
    {
     "data": {
      "text/plain": [
       "[(10, 20), (30, 40), (50, 60), (70, 80), (90, 100)]"
      ]
     },
     "execution_count": 4,
     "metadata": {},
     "output_type": "execute_result"
    }
   ],
   "source": [
    "ls"
   ]
  },
  {
   "cell_type": "code",
   "execution_count": 5,
   "metadata": {},
   "outputs": [
    {
     "name": "stdout",
     "output_type": "stream",
     "text": [
      "(10, 20)\n",
      "(30, 40)\n",
      "(50, 60)\n",
      "(70, 80)\n",
      "(90, 100)\n"
     ]
    }
   ],
   "source": [
    "for t in ls: \n",
    "    print(t)"
   ]
  },
  {
   "cell_type": "code",
   "execution_count": 7,
   "metadata": {},
   "outputs": [
    {
     "name": "stdout",
     "output_type": "stream",
     "text": [
      "t1 =  10 t2=  20\n",
      "t1 =  30 t2=  40\n",
      "t1 =  50 t2=  60\n",
      "t1 =  70 t2=  80\n",
      "t1 =  90 t2=  100\n"
     ]
    }
   ],
   "source": [
    "for (t1,t2) in ls:\n",
    "    print('t1 = ', t1, end=\" \")\n",
    "    print('t2= ', t2)"
   ]
  },
  {
   "cell_type": "code",
   "execution_count": 11,
   "metadata": {},
   "outputs": [
    {
     "name": "stdout",
     "output_type": "stream",
     "text": [
      "{'brand': 'Ford', 'model': 'Mustang', 'year': 1964}   <class 'dict'>\n"
     ]
    }
   ],
   "source": [
    "# dictionary \n",
    "dt = {\"brand\": \"Ford\", \"model\": \"Mustang\", \"year\": 1964}\n",
    "print(dt, ' ', type(dt))"
   ]
  },
  {
   "cell_type": "code",
   "execution_count": 12,
   "metadata": {},
   "outputs": [
    {
     "name": "stdout",
     "output_type": "stream",
     "text": [
      "dict_items([('brand', 'Ford'), ('model', 'Mustang'), ('year', 1964)])\n"
     ]
    }
   ],
   "source": [
    "print(dt.items())"
   ]
  },
  {
   "cell_type": "code",
   "execution_count": 13,
   "metadata": {},
   "outputs": [
    {
     "data": {
      "text/plain": [
       "[('brand', 'Ford'), ('model', 'Mustang'), ('year', 1964)]"
      ]
     },
     "execution_count": 13,
     "metadata": {},
     "output_type": "execute_result"
    }
   ],
   "source": [
    "list(dt.items())"
   ]
  },
  {
   "cell_type": "code",
   "execution_count": 14,
   "metadata": {},
   "outputs": [
    {
     "data": {
      "text/plain": [
       "(('brand', 'Ford'), ('model', 'Mustang'), ('year', 1964))"
      ]
     },
     "execution_count": 14,
     "metadata": {},
     "output_type": "execute_result"
    }
   ],
   "source": [
    "tuple(dt.items())"
   ]
  },
  {
   "cell_type": "code",
   "execution_count": 15,
   "metadata": {},
   "outputs": [
    {
     "data": {
      "text/plain": [
       "dict_keys(['brand', 'model', 'year'])"
      ]
     },
     "execution_count": 15,
     "metadata": {},
     "output_type": "execute_result"
    }
   ],
   "source": [
    "dt.keys()"
   ]
  },
  {
   "cell_type": "code",
   "execution_count": 16,
   "metadata": {},
   "outputs": [
    {
     "data": {
      "text/plain": [
       "dict_values(['Ford', 'Mustang', 1964])"
      ]
     },
     "execution_count": 16,
     "metadata": {},
     "output_type": "execute_result"
    }
   ],
   "source": [
    "dt.values()"
   ]
  },
  {
   "cell_type": "code",
   "execution_count": 17,
   "metadata": {},
   "outputs": [
    {
     "name": "stdout",
     "output_type": "stream",
     "text": [
      "brand\n",
      "model\n",
      "year\n"
     ]
    }
   ],
   "source": [
    "for item in dt:\n",
    "    print(item)"
   ]
  },
  {
   "cell_type": "code",
   "execution_count": 18,
   "metadata": {},
   "outputs": [
    {
     "name": "stdout",
     "output_type": "stream",
     "text": [
      "('brand', 'Ford')\n",
      "('model', 'Mustang')\n",
      "('year', 1964)\n"
     ]
    }
   ],
   "source": [
    "for item in dt.items():\n",
    "    print(item)"
   ]
  },
  {
   "cell_type": "code",
   "execution_count": 20,
   "metadata": {},
   "outputs": [
    {
     "name": "stdout",
     "output_type": "stream",
     "text": [
      "Key: brand, value: Ford\n",
      "Key: model, value: Mustang\n",
      "Key: year, value: 1964\n"
     ]
    }
   ],
   "source": [
    "for k,v in dt.items():\n",
    "    print(f'Key: {k}, value: {v}')"
   ]
  },
  {
   "cell_type": "code",
   "execution_count": 21,
   "metadata": {},
   "outputs": [
    {
     "name": "stdout",
     "output_type": "stream",
     "text": [
      "Key: ('brand', 'Ford')\n",
      "Key: ('model', 'Mustang')\n",
      "Key: ('year', 1964)\n"
     ]
    }
   ],
   "source": [
    "for k in dt.items():\n",
    "    print(f'Key: {k}')"
   ]
  },
  {
   "cell_type": "code",
   "execution_count": 22,
   "metadata": {},
   "outputs": [
    {
     "name": "stdout",
     "output_type": "stream",
     "text": [
      "value: Ford\n",
      "value: Mustang\n",
      "value: 1964\n"
     ]
    }
   ],
   "source": [
    "for v in dt.values():\n",
    "    print(f'value: {v}')"
   ]
  },
  {
   "cell_type": "code",
   "execution_count": 23,
   "metadata": {},
   "outputs": [],
   "source": [
    "t = tuple(dt.items())"
   ]
  },
  {
   "cell_type": "code",
   "execution_count": 24,
   "metadata": {},
   "outputs": [
    {
     "data": {
      "text/plain": [
       "(('brand', 'Ford'), ('model', 'Mustang'), ('year', 1964))"
      ]
     },
     "execution_count": 24,
     "metadata": {},
     "output_type": "execute_result"
    }
   ],
   "source": [
    "t"
   ]
  },
  {
   "cell_type": "code",
   "execution_count": 25,
   "metadata": {},
   "outputs": [
    {
     "name": "stdout",
     "output_type": "stream",
     "text": [
      "('brand', 'Ford')\n",
      "('model', 'Mustang')\n",
      "('year', 1964)\n"
     ]
    }
   ],
   "source": [
    "for item in t:\n",
    "    print(item)"
   ]
  },
  {
   "cell_type": "code",
   "execution_count": 26,
   "metadata": {},
   "outputs": [
    {
     "data": {
      "text/plain": [
       "{'CIS200', 'CIS240', 'CIS310', 'CIS340', 'CIS350'}"
      ]
     },
     "execution_count": 26,
     "metadata": {},
     "output_type": "execute_result"
    }
   ],
   "source": [
    "# set\n",
    "s = {'CIS200','CIS240','CIS310','CIS340','CIS350'}\n",
    "s"
   ]
  },
  {
   "cell_type": "code",
   "execution_count": 27,
   "metadata": {},
   "outputs": [
    {
     "name": "stdout",
     "output_type": "stream",
     "text": [
      "CIS240\n",
      "CIS200\n",
      "CIS340\n",
      "CIS350\n",
      "CIS310\n"
     ]
    }
   ],
   "source": [
    "for c in s:\n",
    "    print(c)"
   ]
  },
  {
   "cell_type": "code",
   "execution_count": 28,
   "metadata": {},
   "outputs": [
    {
     "name": "stdout",
     "output_type": "stream",
     "text": [
      "Apple\n",
      "Grape\n",
      "Orange\n",
      "Banana\n",
      "Cherry\n",
      "Mango\n"
     ]
    }
   ],
   "source": [
    "# Break and continue\n",
    "fruits = ['Apple', 'Grape', 'Orange', 'Banana', 'Cherry', 'Mango']\n",
    "\n",
    "for f in fruits:\n",
    "    print(f)"
   ]
  },
  {
   "cell_type": "code",
   "execution_count": 29,
   "metadata": {},
   "outputs": [
    {
     "name": "stdout",
     "output_type": "stream",
     "text": [
      "Apple\n",
      "Grape\n",
      "Orange\n",
      "Banana\n"
     ]
    }
   ],
   "source": [
    "for f in fruits:\n",
    "    print(f)\n",
    "    if f == 'Banana':\n",
    "        break"
   ]
  },
  {
   "cell_type": "code",
   "execution_count": 30,
   "metadata": {},
   "outputs": [
    {
     "name": "stdout",
     "output_type": "stream",
     "text": [
      "Apple\n",
      "Grape\n",
      "Orange\n"
     ]
    }
   ],
   "source": [
    "for f in fruits:\n",
    "    if f == 'Banana':\n",
    "        break\n",
    "    else:\n",
    "        print(f)"
   ]
  },
  {
   "cell_type": "code",
   "execution_count": 31,
   "metadata": {},
   "outputs": [
    {
     "name": "stdout",
     "output_type": "stream",
     "text": [
      "Apple\n",
      "Grape\n",
      "Orange\n"
     ]
    }
   ],
   "source": [
    "for f in fruits:\n",
    "    if f == 'Banana':\n",
    "        break\n",
    "    print(f)"
   ]
  },
  {
   "cell_type": "code",
   "execution_count": 32,
   "metadata": {},
   "outputs": [
    {
     "data": {
      "text/plain": [
       "['Apple', 'Grape', 'Orange', 'Banana', 'Cherry', 'Mango']"
      ]
     },
     "execution_count": 32,
     "metadata": {},
     "output_type": "execute_result"
    }
   ],
   "source": [
    "# continue keyword\n",
    "fruits"
   ]
  },
  {
   "cell_type": "code",
   "execution_count": 33,
   "metadata": {},
   "outputs": [
    {
     "name": "stdout",
     "output_type": "stream",
     "text": [
      "Apple\n",
      "Orange\n",
      "Banana\n",
      "Cherry\n",
      "Mango\n"
     ]
    }
   ],
   "source": [
    "for f in fruits:\n",
    "    if f == 'Grape':\n",
    "        continue\n",
    "    print(f)"
   ]
  },
  {
   "cell_type": "code",
   "execution_count": 34,
   "metadata": {},
   "outputs": [
    {
     "data": {
      "text/plain": [
       "range(0, 6)"
      ]
     },
     "execution_count": 34,
     "metadata": {},
     "output_type": "execute_result"
    }
   ],
   "source": [
    "range(6)"
   ]
  },
  {
   "cell_type": "code",
   "execution_count": 35,
   "metadata": {},
   "outputs": [
    {
     "name": "stdout",
     "output_type": "stream",
     "text": [
      "0\n",
      "1\n",
      "2\n",
      "3\n",
      "4\n",
      "5\n"
     ]
    }
   ],
   "source": [
    "for num in range(6):\n",
    "    print(num)"
   ]
  },
  {
   "cell_type": "code",
   "execution_count": 36,
   "metadata": {},
   "outputs": [
    {
     "name": "stdout",
     "output_type": "stream",
     "text": [
      "2\n",
      "3\n",
      "4\n",
      "5\n",
      "6\n",
      "7\n",
      "8\n",
      "9\n",
      "10\n"
     ]
    }
   ],
   "source": [
    "for num in range(2,11):\n",
    "    print(num)"
   ]
  },
  {
   "cell_type": "code",
   "execution_count": 37,
   "metadata": {},
   "outputs": [
    {
     "name": "stdout",
     "output_type": "stream",
     "text": [
      "2\n",
      "4\n",
      "6\n",
      "8\n",
      "10\n"
     ]
    }
   ],
   "source": [
    "for num in range(2,11,2):\n",
    "    print(num)"
   ]
  },
  {
   "cell_type": "code",
   "execution_count": 39,
   "metadata": {},
   "outputs": [
    {
     "name": "stdout",
     "output_type": "stream",
     "text": [
      "a= red, f= Apple\n",
      "a= red, f= Grape\n",
      "a= red, f= Orange\n",
      "a= red, f= Cherry\n",
      "a= red, f= Mango\n",
      "red ------------------------------------------\n",
      "a= small, f= Apple\n",
      "a= small, f= Grape\n",
      "a= small, f= Orange\n",
      "a= small, f= Banana\n",
      "a= small, f= Cherry\n",
      "a= small, f= Mango\n",
      "small ------------------------------------------\n",
      "a= large, f= Apple\n",
      "a= large, f= Grape\n",
      "a= large, f= Orange\n",
      "a= large, f= Banana\n",
      "a= large, f= Cherry\n",
      "a= large, f= Mango\n",
      "large ------------------------------------------\n",
      "a= tasty, f= Apple\n",
      "a= tasty, f= Grape\n",
      "a= tasty, f= Orange\n",
      "a= tasty, f= Banana\n",
      "a= tasty, f= Cherry\n",
      "a= tasty, f= Mango\n",
      "tasty ------------------------------------------\n"
     ]
    }
   ],
   "source": [
    "# nested for loop\n",
    "adj = ['red', 'small', 'large', 'tasty']\n",
    "fruits = ['Apple', 'Grape', 'Orange', 'Banana', 'Cherry', 'Mango']\n",
    "\n",
    "for a in adj: # outer loop\n",
    "    for f in fruits: # inner loop\n",
    "        if a == 'red' and f == 'Banana':\n",
    "            continue\n",
    "        else:\n",
    "            print(f\"a= {a}, f= {f}\")\n",
    "    print(a, \"------------------------------------------\")"
   ]
  },
  {
   "cell_type": "code",
   "execution_count": 40,
   "metadata": {},
   "outputs": [
    {
     "data": {
      "text/plain": [
       "['Washington', 'Adams', 'Jefferson', 'Madison', 'Monroe', 'Adams', 'Jackson']"
      ]
     },
     "execution_count": 40,
     "metadata": {},
     "output_type": "execute_result"
    }
   ],
   "source": [
    "# How to loop using index\n",
    "names = [\"Washington\", \"Adams\", \"Jefferson\", \"Madison\", \n",
    "         \"Monroe\", \"Adams\", \"Jackson\"]\n",
    "names"
   ]
  },
  {
   "cell_type": "code",
   "execution_count": 41,
   "metadata": {},
   "outputs": [
    {
     "data": {
      "text/plain": [
       "7"
      ]
     },
     "execution_count": 41,
     "metadata": {},
     "output_type": "execute_result"
    }
   ],
   "source": [
    "len(names)"
   ]
  },
  {
   "cell_type": "code",
   "execution_count": 42,
   "metadata": {},
   "outputs": [
    {
     "data": {
      "text/plain": [
       "range(0, 7)"
      ]
     },
     "execution_count": 42,
     "metadata": {},
     "output_type": "execute_result"
    }
   ],
   "source": [
    "range(len(names))"
   ]
  },
  {
   "cell_type": "code",
   "execution_count": 43,
   "metadata": {},
   "outputs": [
    {
     "name": "stdout",
     "output_type": "stream",
     "text": [
      "Name index 0: Washington\n",
      "Name index 1: Adams\n",
      "Name index 2: Jefferson\n",
      "Name index 3: Madison\n",
      "Name index 4: Monroe\n",
      "Name index 5: Adams\n",
      "Name index 6: Jackson\n"
     ]
    }
   ],
   "source": [
    "for index in range(len(names)):\n",
    "    print(f'Name index {index}: {names[index]}')"
   ]
  },
  {
   "cell_type": "code",
   "execution_count": 44,
   "metadata": {},
   "outputs": [
    {
     "name": "stdout",
     "output_type": "stream",
     "text": [
      "Name 1: Washington\n",
      "Name 2: Adams\n",
      "Name 3: Jefferson\n",
      "Name 4: Madison\n",
      "Name 5: Monroe\n",
      "Name 6: Adams\n",
      "Name 7: Jackson\n"
     ]
    }
   ],
   "source": [
    "for index in range(len(names)):\n",
    "    print(f'Name {index+1}: {names[index]}')"
   ]
  },
  {
   "cell_type": "code",
   "execution_count": 45,
   "metadata": {},
   "outputs": [
    {
     "name": "stdout",
     "output_type": "stream",
     "text": [
      "Name 0: Washington\n",
      "Name 1: Adams\n",
      "Name 2: Jefferson\n",
      "Name 3: Madison\n",
      "Name 4: Monroe\n",
      "Name 5: Adams\n",
      "Name 6: Jackson\n"
     ]
    }
   ],
   "source": [
    "# enumerate\n",
    "for idx, name in enumerate(names):\n",
    "    print(f'Name {idx}: {names[idx]}')"
   ]
  },
  {
   "cell_type": "code",
   "execution_count": 46,
   "metadata": {},
   "outputs": [
    {
     "name": "stdout",
     "output_type": "stream",
     "text": [
      "Name 1: Washington\n",
      "Name 2: Adams\n",
      "Name 3: Jefferson\n",
      "Name 4: Madison\n",
      "Name 5: Monroe\n",
      "Name 6: Adams\n",
      "Name 7: Jackson\n"
     ]
    }
   ],
   "source": [
    "for idx, name in enumerate(names,1):\n",
    "    print(f'Name {idx}: {name}')"
   ]
  },
  {
   "cell_type": "code",
   "execution_count": 47,
   "metadata": {},
   "outputs": [
    {
     "name": "stdout",
     "output_type": "stream",
     "text": [
      "20.0% red\n",
      "30.0% green\n",
      "10.0% blue\n",
      "40.0% purple\n"
     ]
    }
   ],
   "source": [
    "# how to loop over multiple things? Without nested loop\n",
    "colors = [\"red\", \"green\", \"blue\", \"purple\"]\n",
    "ratios = [0.2, 0.3, 0.1, 0.4]\n",
    "\n",
    "for i, c in enumerate(colors):\n",
    "    print(f'{ratios[i] * 100}% {c}')"
   ]
  },
  {
   "cell_type": "code",
   "execution_count": 48,
   "metadata": {},
   "outputs": [
    {
     "name": "stdout",
     "output_type": "stream",
     "text": [
      "[('red', 0.2), ('green', 0.3), ('blue', 0.1), ('purple', 0.4)]\n"
     ]
    }
   ],
   "source": [
    "# zip()\n",
    "zipped_lst = list(zip(colors,ratios))\n",
    "print(zipped_lst)"
   ]
  },
  {
   "cell_type": "code",
   "execution_count": 49,
   "metadata": {},
   "outputs": [
    {
     "name": "stdout",
     "output_type": "stream",
     "text": [
      "20.0% red\n",
      "30.0% green\n",
      "10.0% blue\n",
      "40.0% purple\n"
     ]
    }
   ],
   "source": [
    "for c,r in zipped_lst:\n",
    "    print(f'{r * 100}% {c}')    "
   ]
  },
  {
   "cell_type": "code",
   "execution_count": null,
   "metadata": {},
   "outputs": [],
   "source": []
  }
 ],
 "metadata": {
  "kernelspec": {
   "display_name": "Python 3.7 - default",
   "language": "python",
   "name": "py37_default"
  },
  "language_info": {
   "codemirror_mode": {
    "name": "ipython",
    "version": 3
   },
   "file_extension": ".py",
   "mimetype": "text/x-python",
   "name": "python",
   "nbconvert_exporter": "python",
   "pygments_lexer": "ipython3",
   "version": "3.7.7"
  }
 },
 "nbformat": 4,
 "nbformat_minor": 4
}
