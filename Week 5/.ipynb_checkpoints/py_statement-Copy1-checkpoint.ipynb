{
 "cells": [
  {
   "cell_type": "markdown",
   "metadata": {},
   "source": [
    "# Ethan Melsheimer\n",
    "## 2/16/2023\n",
    "### Python Statements [if,else,elif]"
   ]
  },
  {
   "cell_type": "markdown",
   "metadata": {},
   "source": [
    "**the format of the if-statement**\n",
    "```\n",
    "if condition1:\n",
    "    perform action1\n",
    "elif condition2:\n",
    "    perform action2\n",
    "else:\n",
    "    perform action3\n",
    "```"
   ]
  },
  {
   "cell_type": "code",
   "execution_count": 1,
   "metadata": {},
   "outputs": [
    {
     "name": "stdout",
     "output_type": "stream",
     "text": [
      "It was correct!\n"
     ]
    }
   ],
   "source": [
    "# if statement \n",
    "if True:\n",
    "    print(\"It was correct!\")"
   ]
  },
  {
   "cell_type": "code",
   "execution_count": 2,
   "metadata": {},
   "outputs": [],
   "source": [
    "if False:\n",
    "    print(\"It was correct!\")"
   ]
  },
  {
   "cell_type": "code",
   "execution_count": 3,
   "metadata": {},
   "outputs": [
    {
     "name": "stdout",
     "output_type": "stream",
     "text": [
      "Hi Five!\n"
     ]
    }
   ],
   "source": [
    "value = 5\n",
    "if value == 5:\n",
    "    print(\"Hi Five!\")"
   ]
  },
  {
   "cell_type": "code",
   "execution_count": 4,
   "metadata": {},
   "outputs": [
    {
     "name": "stdout",
     "output_type": "stream",
     "text": [
      "Hi Five!\n"
     ]
    }
   ],
   "source": [
    "# if-else statement \n",
    "if value == 5:\n",
    "    print(\"Hi Five!\")\n",
    "else:\n",
    "    print(\"Let's try again\")"
   ]
  },
  {
   "cell_type": "code",
   "execution_count": 5,
   "metadata": {},
   "outputs": [
    {
     "name": "stdout",
     "output_type": "stream",
     "text": [
      "Let's try again\n"
     ]
    }
   ],
   "source": [
    "value = 4\n",
    "if value == 5:\n",
    "    print(\"Hi Five!\")\n",
    "else:\n",
    "    print(\"Let's try again\")"
   ]
  },
  {
   "cell_type": "code",
   "execution_count": 6,
   "metadata": {},
   "outputs": [
    {
     "name": "stdout",
     "output_type": "stream",
     "text": [
      "redo test2\n"
     ]
    }
   ],
   "source": [
    "test1 = 98\n",
    "test2 = 40\n",
    "if test1 < test2:\n",
    "    print(\"You may redo test1\")\n",
    "else:\n",
    "    print(\"redo test2\")"
   ]
  },
  {
   "cell_type": "code",
   "execution_count": 7,
   "metadata": {},
   "outputs": [
    {
     "ename": "IndentationError",
     "evalue": "expected an indented block (<ipython-input-7-c90e8bb0b92e>, line 2)",
     "output_type": "error",
     "traceback": [
      "\u001b[1;36m  File \u001b[1;32m\"<ipython-input-7-c90e8bb0b92e>\"\u001b[1;36m, line \u001b[1;32m2\u001b[0m\n\u001b[1;33m    print(\"Hi Five!\")\u001b[0m\n\u001b[1;37m        ^\u001b[0m\n\u001b[1;31mIndentationError\u001b[0m\u001b[1;31m:\u001b[0m expected an indented block\n"
     ]
    }
   ],
   "source": [
    "if value == 5:\n",
    "print(\"Hi Five!\")"
   ]
  },
  {
   "cell_type": "code",
   "execution_count": 9,
   "metadata": {},
   "outputs": [
    {
     "name": "stdout",
     "output_type": "stream",
     "text": [
      "test1 is greater than test2\n",
      "You may think to redo test2!\n"
     ]
    }
   ],
   "source": [
    "# if-elif-statement\n",
    "test1 = 81\n",
    "test2 = 79\n",
    "\n",
    "if test1 > test2:\n",
    "    print(\"test1 is greater than test2\")\n",
    "    print(\"You may think to redo test2!\")\n",
    "elif test2 > test1:\n",
    "    print(\"test2 is greater than test1\")\n",
    "    print(\"You may think about redoing test1, instead!\")\n",
    "else:\n",
    "    print(\"test1 and test2 scores are equal!\")"
   ]
  },
  {
   "cell_type": "code",
   "execution_count": 10,
   "metadata": {},
   "outputs": [],
   "source": [
    "#Nested if statement\n",
    "s1,s2,s3 = 89, 75,92"
   ]
  },
  {
   "cell_type": "code",
   "execution_count": 11,
   "metadata": {},
   "outputs": [
    {
     "name": "stdout",
     "output_type": "stream",
     "text": [
      "s1 above 40\n",
      "s1 also above 80!\n"
     ]
    }
   ],
   "source": [
    "if s1 > 40:\n",
    "    print(\"s1 above 40\")\n",
    "    if s1 > 80:\n",
    "        print(\"s1 also above 80!\")\n",
    "    elif s2 < 80:\n",
    "        print(\"s2 is smaller than 80\")\n",
    "    elif s3 > 80:\n",
    "        print(\"s3 is greater than 80\")\n",
    "    else:\n",
    "        print(\"s3 is greater than 80\")\n",
    "else:\n",
    "    print(\"s1, s2, s3\", s1, s2,s3)"
   ]
  },
  {
   "cell_type": "code",
   "execution_count": 12,
   "metadata": {},
   "outputs": [
    {
     "name": "stdout",
     "output_type": "stream",
     "text": [
      "test1 is greater than test2\n"
     ]
    }
   ],
   "source": [
    "# One-Line if Statements\n",
    "if test1 > test2: print(\"test1 is greater than test2\")"
   ]
  },
  {
   "cell_type": "code",
   "execution_count": 13,
   "metadata": {},
   "outputs": [
    {
     "name": "stdout",
     "output_type": "stream",
     "text": [
      "5\n",
      "25\n",
      "10\n"
     ]
    }
   ],
   "source": [
    "if 5 in [4,5,6,7,8,9]: print(5); print(5*5); print(5*2)"
   ]
  },
  {
   "cell_type": "code",
   "execution_count": 15,
   "metadata": {},
   "outputs": [
    {
     "name": "stdout",
     "output_type": "stream",
     "text": [
      "c\n",
      "C\n"
     ]
    }
   ],
   "source": [
    "if 'C' in 'CIS310':print('c');print('C')"
   ]
  },
  {
   "cell_type": "code",
   "execution_count": 16,
   "metadata": {},
   "outputs": [
    {
     "name": "stdout",
     "output_type": "stream",
     "text": [
      "test1\n"
     ]
    }
   ],
   "source": [
    "# short Hand if ... Else\n",
    "print('test1') if test1 > test2 else print('test2')"
   ]
  },
  {
   "cell_type": "code",
   "execution_count": 20,
   "metadata": {},
   "outputs": [
    {
     "name": "stdout",
     "output_type": "stream",
     "text": [
      "let's go to the beach\n"
     ]
    }
   ],
   "source": [
    "# using if statement in the print statement\n",
    "raining = False\n",
    "print(\"let's go to the\", 'beach' if not raining else 'rec center')"
   ]
  },
  {
   "cell_type": "code",
   "execution_count": 19,
   "metadata": {},
   "outputs": [
    {
     "name": "stdout",
     "output_type": "stream",
     "text": [
      "let's go to the rec center\n"
     ]
    }
   ],
   "source": [
    "raining = True\n",
    "print(\"let's go to the\", 'beach' if not raining else 'rec center')"
   ]
  },
  {
   "cell_type": "code",
   "execution_count": 22,
   "metadata": {},
   "outputs": [
    {
     "name": "stdout",
     "output_type": "stream",
     "text": [
      "s= minor\n"
     ]
    }
   ],
   "source": [
    "age = 12\n",
    "s = 'minor' if age < 21 else 'adult'\n",
    "print('s=',s)"
   ]
  },
  {
   "cell_type": "code",
   "execution_count": 23,
   "metadata": {},
   "outputs": [
    {
     "name": "stdout",
     "output_type": "stream",
     "text": [
      "At least one of the conditions is evaluated to True!\n"
     ]
    }
   ],
   "source": [
    "# Logical and, or operator\n",
    "if s1 > s2 or s3 > s2:\n",
    "    print(\"At least one of the conditions is evaluated to True!\")"
   ]
  },
  {
   "cell_type": "code",
   "execution_count": 27,
   "metadata": {},
   "outputs": [
    {
     "name": "stdout",
     "output_type": "stream",
     "text": [
      "Both conditions are evaluated to True!\n"
     ]
    }
   ],
   "source": [
    "if s1 > s2 and s3 > s2:\n",
    "    print(\"Both conditions are evaluated to True!\")"
   ]
  },
  {
   "cell_type": "code",
   "execution_count": 28,
   "metadata": {},
   "outputs": [],
   "source": [
    "#pass \n",
    "if s1 > 60:\n",
    "    pass"
   ]
  },
  {
   "cell_type": "code",
   "execution_count": 29,
   "metadata": {},
   "outputs": [
    {
     "data": {
      "text/plain": [
       "{'Fred': 'Hello Fred',\n",
       " 'Rama': 'Hello Rama',\n",
       " 'Joe': 'Hello Joe',\n",
       " 'Alice': 'Hello Alice'}"
      ]
     },
     "execution_count": 29,
     "metadata": {},
     "output_type": "execute_result"
    }
   ],
   "source": [
    "names = {'Fred': 'Hello Fred', 'Rama': 'Hello Rama', 'Joe': 'Hello Joe',\n",
    "         'Alice': 'Hello Alice'}\n",
    "names"
   ]
  },
  {
   "cell_type": "code",
   "execution_count": 30,
   "metadata": {},
   "outputs": [
    {
     "data": {
      "text/plain": [
       "'Hello Joe'"
      ]
     },
     "execution_count": 30,
     "metadata": {},
     "output_type": "execute_result"
    }
   ],
   "source": [
    "names['Joe']"
   ]
  },
  {
   "cell_type": "code",
   "execution_count": 31,
   "metadata": {},
   "outputs": [
    {
     "data": {
      "text/plain": [
       "'Hello Fred'"
      ]
     },
     "execution_count": 31,
     "metadata": {},
     "output_type": "execute_result"
    }
   ],
   "source": [
    "names['Fred']"
   ]
  },
  {
   "cell_type": "code",
   "execution_count": 32,
   "metadata": {},
   "outputs": [
    {
     "ename": "KeyError",
     "evalue": "'Bob'",
     "output_type": "error",
     "traceback": [
      "\u001b[1;31m---------------------------------------------------------------------------\u001b[0m",
      "\u001b[1;31mKeyError\u001b[0m                                  Traceback (most recent call last)",
      "\u001b[1;32m<ipython-input-32-c938ce5766b7>\u001b[0m in \u001b[0;36m<module>\u001b[1;34m\u001b[0m\n\u001b[1;32m----> 1\u001b[1;33m \u001b[0mnames\u001b[0m\u001b[1;33m[\u001b[0m\u001b[1;34m'Bob'\u001b[0m\u001b[1;33m]\u001b[0m\u001b[1;33m\u001b[0m\u001b[1;33m\u001b[0m\u001b[0m\n\u001b[0m",
      "\u001b[1;31mKeyError\u001b[0m: 'Bob'"
     ]
    }
   ],
   "source": [
    "names['Bob']"
   ]
  },
  {
   "cell_type": "code",
   "execution_count": 33,
   "metadata": {},
   "outputs": [
    {
     "data": {
      "text/plain": [
       "'Hello Fred'"
      ]
     },
     "execution_count": 33,
     "metadata": {},
     "output_type": "execute_result"
    }
   ],
   "source": [
    "names.get('Fred', 'I do not know who you are?')"
   ]
  },
  {
   "cell_type": "code",
   "execution_count": 34,
   "metadata": {},
   "outputs": [
    {
     "data": {
      "text/plain": [
       "'I do not know who you are?'"
      ]
     },
     "execution_count": 34,
     "metadata": {},
     "output_type": "execute_result"
    }
   ],
   "source": [
    "names.get('Bob', 'I do not know who you are?')"
   ]
  },
  {
   "cell_type": "code",
   "execution_count": null,
   "metadata": {},
   "outputs": [],
   "source": []
  }
 ],
 "metadata": {
  "kernelspec": {
   "display_name": "Python 3.7 - default",
   "language": "python",
   "name": "py37_default"
  },
  "language_info": {
   "codemirror_mode": {
    "name": "ipython",
    "version": 3
   },
   "file_extension": ".py",
   "mimetype": "text/x-python",
   "name": "python",
   "nbconvert_exporter": "python",
   "pygments_lexer": "ipython3",
   "version": "3.7.7"
  }
 },
 "nbformat": 4,
 "nbformat_minor": 4
}
