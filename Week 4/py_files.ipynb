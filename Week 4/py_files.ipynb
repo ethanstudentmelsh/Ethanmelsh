{
 "cells": [
  {
   "cell_type": "markdown",
   "metadata": {},
   "source": [
    "# Ethan Melsheimer\n",
    "## 2/9/2023\n",
    "### Python - Files Basics"
   ]
  },
  {
   "cell_type": "code",
   "execution_count": 1,
   "metadata": {},
   "outputs": [
    {
     "name": "stdout",
     "output_type": "stream",
     "text": [
      "Overwriting file1.txt\n"
     ]
    }
   ],
   "source": [
    "%%writefile file1.txt\n",
    "Hi, I am student in CIS310"
   ]
  },
  {
   "cell_type": "code",
   "execution_count": 2,
   "metadata": {},
   "outputs": [
    {
     "data": {
      "text/plain": [
       "'C:\\\\Users\\\\andaconda\\\\notebooks\\\\Week 4'"
      ]
     },
     "execution_count": 2,
     "metadata": {},
     "output_type": "execute_result"
    }
   ],
   "source": [
    "pwd"
   ]
  },
  {
   "cell_type": "code",
   "execution_count": 3,
   "metadata": {},
   "outputs": [
    {
     "name": "stdout",
     "output_type": "stream",
     "text": [
      " Volume in drive C is Windows\n",
      " Volume Serial Number is 5C98-3B99\n",
      "\n",
      " Directory of C:\\Users\\andaconda\\notebooks\\Week 4\n",
      "\n",
      "02/14/2023  07:40 PM    <DIR>          .\n",
      "02/14/2023  07:40 PM    <DIR>          ..\n",
      "02/09/2023  08:36 PM    <DIR>          .ipynb_checkpoints\n",
      "02/14/2023  07:33 PM               657 company_sales_data.csv\n",
      "02/14/2023  07:33 PM                65 example_1.json\n",
      "02/14/2023  07:33 PM               947 example_2.json\n",
      "02/14/2023  07:39 PM                28 file1.txt\n",
      "02/14/2023  07:33 PM           134,584 medals.csv\n",
      "02/09/2023  08:37 PM            26,246 py_dictionaries.ipynb\n",
      "02/14/2023  07:40 PM             1,045 py_files.ipynb\n",
      "02/07/2023  08:35 PM             6,952 py_sets.ipynb\n",
      "02/07/2023  08:25 PM             6,678 py_tubles.ipynb\n",
      "               9 File(s)        177,202 bytes\n",
      "               3 Dir(s)  30,521,475,072 bytes free\n"
     ]
    }
   ],
   "source": [
    "ls"
   ]
  },
  {
   "cell_type": "code",
   "execution_count": 4,
   "metadata": {},
   "outputs": [],
   "source": [
    "f = open(\"file1.txt\")"
   ]
  },
  {
   "cell_type": "code",
   "execution_count": 5,
   "metadata": {},
   "outputs": [
    {
     "data": {
      "text/plain": [
       "'Hi, I am student in CIS310\\n'"
      ]
     },
     "execution_count": 5,
     "metadata": {},
     "output_type": "execute_result"
    }
   ],
   "source": [
    "f.read()"
   ]
  },
  {
   "cell_type": "code",
   "execution_count": 6,
   "metadata": {},
   "outputs": [
    {
     "data": {
      "text/plain": [
       "''"
      ]
     },
     "execution_count": 6,
     "metadata": {},
     "output_type": "execute_result"
    }
   ],
   "source": [
    "f.read()"
   ]
  },
  {
   "cell_type": "code",
   "execution_count": 7,
   "metadata": {},
   "outputs": [
    {
     "data": {
      "text/plain": [
       "0"
      ]
     },
     "execution_count": 7,
     "metadata": {},
     "output_type": "execute_result"
    }
   ],
   "source": [
    "f.seek(0)"
   ]
  },
  {
   "cell_type": "code",
   "execution_count": 8,
   "metadata": {},
   "outputs": [
    {
     "data": {
      "text/plain": [
       "'Hi, I am student in CIS310\\n'"
      ]
     },
     "execution_count": 8,
     "metadata": {},
     "output_type": "execute_result"
    }
   ],
   "source": [
    "f.read()"
   ]
  },
  {
   "cell_type": "code",
   "execution_count": 9,
   "metadata": {},
   "outputs": [
    {
     "data": {
      "text/plain": [
       "0"
      ]
     },
     "execution_count": 9,
     "metadata": {},
     "output_type": "execute_result"
    }
   ],
   "source": [
    "f.seek(0)"
   ]
  },
  {
   "cell_type": "code",
   "execution_count": 10,
   "metadata": {},
   "outputs": [
    {
     "data": {
      "text/plain": [
       "'Hi, I am student in CIS310\\n'"
      ]
     },
     "execution_count": 10,
     "metadata": {},
     "output_type": "execute_result"
    }
   ],
   "source": [
    "f.readline()"
   ]
  },
  {
   "cell_type": "code",
   "execution_count": 11,
   "metadata": {},
   "outputs": [
    {
     "name": "stdout",
     "output_type": "stream",
     "text": [
      "Writing demofile.txt\n"
     ]
    }
   ],
   "source": [
    "%%writefile demofile.txt\n",
    "Hi, Welcome to Python Files.\n",
    "This file is only for testing.\n",
    "You can put any text in it.\n",
    "Good Luck!"
   ]
  },
  {
   "cell_type": "code",
   "execution_count": 12,
   "metadata": {},
   "outputs": [
    {
     "name": "stdout",
     "output_type": "stream",
     "text": [
      " Volume in drive C is Windows\n",
      " Volume Serial Number is 5C98-3B99\n",
      "\n",
      " Directory of C:\\Users\\andaconda\\notebooks\\Week 4\n",
      "\n",
      "02/14/2023  07:46 PM    <DIR>          .\n",
      "02/14/2023  07:46 PM    <DIR>          ..\n",
      "02/09/2023  08:36 PM    <DIR>          .ipynb_checkpoints\n",
      "02/14/2023  07:33 PM               657 company_sales_data.csv\n",
      "02/14/2023  07:46 PM               103 demofile.txt\n",
      "02/14/2023  07:33 PM                65 example_1.json\n",
      "02/14/2023  07:33 PM               947 example_2.json\n",
      "02/14/2023  07:39 PM                28 file1.txt\n",
      "02/14/2023  07:33 PM           134,584 medals.csv\n",
      "02/09/2023  08:37 PM            26,246 py_dictionaries.ipynb\n",
      "02/14/2023  07:46 PM             4,827 py_files.ipynb\n",
      "02/07/2023  08:35 PM             6,952 py_sets.ipynb\n",
      "02/07/2023  08:25 PM             6,678 py_tubles.ipynb\n",
      "              10 File(s)        181,087 bytes\n",
      "               3 Dir(s)  30,287,257,600 bytes free\n"
     ]
    }
   ],
   "source": [
    "ls"
   ]
  },
  {
   "cell_type": "code",
   "execution_count": 13,
   "metadata": {},
   "outputs": [],
   "source": [
    "myFile =open(\"demofile.txt\",\"r\")"
   ]
  },
  {
   "cell_type": "code",
   "execution_count": 14,
   "metadata": {},
   "outputs": [
    {
     "data": {
      "text/plain": [
       "'Hi, Welcome to Python Files.\\nThis file is only for testing.\\nYou can put any text in it.\\nGood Luck!\\n'"
      ]
     },
     "execution_count": 14,
     "metadata": {},
     "output_type": "execute_result"
    }
   ],
   "source": [
    "myFile.read()"
   ]
  },
  {
   "cell_type": "code",
   "execution_count": 15,
   "metadata": {},
   "outputs": [
    {
     "data": {
      "text/plain": [
       "''"
      ]
     },
     "execution_count": 15,
     "metadata": {},
     "output_type": "execute_result"
    }
   ],
   "source": [
    "myFile.read()"
   ]
  },
  {
   "cell_type": "code",
   "execution_count": 16,
   "metadata": {},
   "outputs": [
    {
     "data": {
      "text/plain": [
       "0"
      ]
     },
     "execution_count": 16,
     "metadata": {},
     "output_type": "execute_result"
    }
   ],
   "source": [
    "myFile.seek(0)"
   ]
  },
  {
   "cell_type": "code",
   "execution_count": 17,
   "metadata": {},
   "outputs": [
    {
     "data": {
      "text/plain": [
       "'Hi, Welcome to Python Files.\\n'"
      ]
     },
     "execution_count": 17,
     "metadata": {},
     "output_type": "execute_result"
    }
   ],
   "source": [
    "myFile.readline()"
   ]
  },
  {
   "cell_type": "code",
   "execution_count": 18,
   "metadata": {},
   "outputs": [
    {
     "data": {
      "text/plain": [
       "'This file is only for testing.\\n'"
      ]
     },
     "execution_count": 18,
     "metadata": {},
     "output_type": "execute_result"
    }
   ],
   "source": [
    "myFile.readline()"
   ]
  },
  {
   "cell_type": "code",
   "execution_count": 19,
   "metadata": {},
   "outputs": [
    {
     "data": {
      "text/plain": [
       "'You can put any text in it.\\n'"
      ]
     },
     "execution_count": 19,
     "metadata": {},
     "output_type": "execute_result"
    }
   ],
   "source": [
    "myFile.readline()"
   ]
  },
  {
   "cell_type": "code",
   "execution_count": 20,
   "metadata": {},
   "outputs": [
    {
     "data": {
      "text/plain": [
       "'Good Luck!\\n'"
      ]
     },
     "execution_count": 20,
     "metadata": {},
     "output_type": "execute_result"
    }
   ],
   "source": [
    "myFile.readline()"
   ]
  },
  {
   "cell_type": "code",
   "execution_count": 21,
   "metadata": {},
   "outputs": [
    {
     "data": {
      "text/plain": [
       "''"
      ]
     },
     "execution_count": 21,
     "metadata": {},
     "output_type": "execute_result"
    }
   ],
   "source": [
    "myFile.readline()"
   ]
  },
  {
   "cell_type": "code",
   "execution_count": 22,
   "metadata": {},
   "outputs": [
    {
     "data": {
      "text/plain": [
       "0"
      ]
     },
     "execution_count": 22,
     "metadata": {},
     "output_type": "execute_result"
    }
   ],
   "source": [
    "myFile.seek(0)"
   ]
  },
  {
   "cell_type": "code",
   "execution_count": 23,
   "metadata": {},
   "outputs": [
    {
     "data": {
      "text/plain": [
       "['Hi, Welcome to Python Files.\\n',\n",
       " 'This file is only for testing.\\n',\n",
       " 'You can put any text in it.\\n',\n",
       " 'Good Luck!\\n']"
      ]
     },
     "execution_count": 23,
     "metadata": {},
     "output_type": "execute_result"
    }
   ],
   "source": [
    "myFile.readlines()"
   ]
  },
  {
   "cell_type": "code",
   "execution_count": 24,
   "metadata": {},
   "outputs": [
    {
     "data": {
      "text/plain": [
       "[]"
      ]
     },
     "execution_count": 24,
     "metadata": {},
     "output_type": "execute_result"
    }
   ],
   "source": [
    "myFile.readlines()"
   ]
  },
  {
   "cell_type": "code",
   "execution_count": 25,
   "metadata": {},
   "outputs": [
    {
     "data": {
      "text/plain": [
       "0"
      ]
     },
     "execution_count": 25,
     "metadata": {},
     "output_type": "execute_result"
    }
   ],
   "source": [
    "myFile.seek(0)"
   ]
  },
  {
   "cell_type": "code",
   "execution_count": 27,
   "metadata": {},
   "outputs": [
    {
     "data": {
      "text/plain": [
       "'This file is only for testing.\\n'"
      ]
     },
     "execution_count": 27,
     "metadata": {},
     "output_type": "execute_result"
    }
   ],
   "source": [
    "myFile.readlines()[1]"
   ]
  },
  {
   "cell_type": "code",
   "execution_count": 28,
   "metadata": {},
   "outputs": [
    {
     "data": {
      "text/plain": [
       "0"
      ]
     },
     "execution_count": 28,
     "metadata": {},
     "output_type": "execute_result"
    }
   ],
   "source": [
    "myFile.seek(0)"
   ]
  },
  {
   "cell_type": "code",
   "execution_count": 29,
   "metadata": {},
   "outputs": [
    {
     "data": {
      "text/plain": [
       "['Hi, Welcome to Python Files.\\n']"
      ]
     },
     "execution_count": 29,
     "metadata": {},
     "output_type": "execute_result"
    }
   ],
   "source": [
    "myFile.readlines(2)"
   ]
  },
  {
   "cell_type": "code",
   "execution_count": 30,
   "metadata": {},
   "outputs": [],
   "source": [
    "#to write data to file\n",
    "fw = open(\"file.txt\",\"w+\")"
   ]
  },
  {
   "cell_type": "code",
   "execution_count": 31,
   "metadata": {},
   "outputs": [
    {
     "data": {
      "text/plain": [
       "''"
      ]
     },
     "execution_count": 31,
     "metadata": {},
     "output_type": "execute_result"
    }
   ],
   "source": [
    "fw.read()"
   ]
  },
  {
   "cell_type": "code",
   "execution_count": 32,
   "metadata": {},
   "outputs": [
    {
     "data": {
      "text/plain": [
       "0"
      ]
     },
     "execution_count": 32,
     "metadata": {},
     "output_type": "execute_result"
    }
   ],
   "source": [
    "f.seek(0)"
   ]
  },
  {
   "cell_type": "code",
   "execution_count": 33,
   "metadata": {},
   "outputs": [
    {
     "data": {
      "text/plain": [
       "''"
      ]
     },
     "execution_count": 33,
     "metadata": {},
     "output_type": "execute_result"
    }
   ],
   "source": [
    "f.read(0)"
   ]
  },
  {
   "cell_type": "code",
   "execution_count": 34,
   "metadata": {},
   "outputs": [
    {
     "data": {
      "text/plain": [
       "18"
      ]
     },
     "execution_count": 34,
     "metadata": {},
     "output_type": "execute_result"
    }
   ],
   "source": [
    "fw.write(\"This is a new line\")"
   ]
  },
  {
   "cell_type": "code",
   "execution_count": 35,
   "metadata": {},
   "outputs": [
    {
     "data": {
      "text/plain": [
       "''"
      ]
     },
     "execution_count": 35,
     "metadata": {},
     "output_type": "execute_result"
    }
   ],
   "source": [
    "fw.read()"
   ]
  },
  {
   "cell_type": "code",
   "execution_count": 36,
   "metadata": {},
   "outputs": [
    {
     "data": {
      "text/plain": [
       "0"
      ]
     },
     "execution_count": 36,
     "metadata": {},
     "output_type": "execute_result"
    }
   ],
   "source": [
    "fw.seek(0)"
   ]
  },
  {
   "cell_type": "code",
   "execution_count": 37,
   "metadata": {},
   "outputs": [
    {
     "data": {
      "text/plain": [
       "'This is a new line'"
      ]
     },
     "execution_count": 37,
     "metadata": {},
     "output_type": "execute_result"
    }
   ],
   "source": [
    "fw.read()"
   ]
  },
  {
   "cell_type": "code",
   "execution_count": 38,
   "metadata": {},
   "outputs": [
    {
     "data": {
      "text/plain": [
       "20"
      ]
     },
     "execution_count": 38,
     "metadata": {},
     "output_type": "execute_result"
    }
   ],
   "source": [
    "fw.write(\"This is another line\")"
   ]
  },
  {
   "cell_type": "code",
   "execution_count": 39,
   "metadata": {},
   "outputs": [
    {
     "data": {
      "text/plain": [
       "''"
      ]
     },
     "execution_count": 39,
     "metadata": {},
     "output_type": "execute_result"
    }
   ],
   "source": [
    "fw.read()"
   ]
  },
  {
   "cell_type": "code",
   "execution_count": 40,
   "metadata": {},
   "outputs": [
    {
     "data": {
      "text/plain": [
       "0"
      ]
     },
     "execution_count": 40,
     "metadata": {},
     "output_type": "execute_result"
    }
   ],
   "source": [
    "fw.seek(0)"
   ]
  },
  {
   "cell_type": "code",
   "execution_count": 41,
   "metadata": {},
   "outputs": [
    {
     "data": {
      "text/plain": [
       "'This is a new lineThis is another line'"
      ]
     },
     "execution_count": 41,
     "metadata": {},
     "output_type": "execute_result"
    }
   ],
   "source": [
    "fw.read()"
   ]
  },
  {
   "cell_type": "code",
   "execution_count": 42,
   "metadata": {},
   "outputs": [
    {
     "name": "stdout",
     "output_type": "stream",
     "text": [
      " Volume in drive C is Windows\n",
      " Volume Serial Number is 5C98-3B99\n",
      "\n",
      " Directory of C:\\Users\\andaconda\\notebooks\\Week 4\n",
      "\n",
      "02/14/2023  07:58 PM    <DIR>          .\n",
      "02/14/2023  07:58 PM    <DIR>          ..\n",
      "02/09/2023  08:36 PM    <DIR>          .ipynb_checkpoints\n",
      "02/14/2023  07:33 PM               657 company_sales_data.csv\n",
      "02/14/2023  07:46 PM               103 demofile.txt\n",
      "02/14/2023  07:33 PM                65 example_1.json\n",
      "02/14/2023  07:33 PM               947 example_2.json\n",
      "02/14/2023  07:55 PM                 0 file.txt\n",
      "02/14/2023  07:39 PM                28 file1.txt\n",
      "02/14/2023  07:33 PM           134,584 medals.csv\n",
      "02/09/2023  08:37 PM            26,246 py_dictionaries.ipynb\n",
      "02/14/2023  07:58 PM            13,946 py_files.ipynb\n",
      "02/07/2023  08:35 PM             6,952 py_sets.ipynb\n",
      "02/07/2023  08:25 PM             6,678 py_tubles.ipynb\n",
      "              11 File(s)        190,206 bytes\n",
      "               3 Dir(s)  30,286,778,368 bytes free\n"
     ]
    }
   ],
   "source": [
    "ls"
   ]
  },
  {
   "cell_type": "code",
   "execution_count": 45,
   "metadata": {},
   "outputs": [
    {
     "data": {
      "text/plain": [
       "68"
      ]
     },
     "execution_count": 45,
     "metadata": {},
     "output_type": "execute_result"
    }
   ],
   "source": [
    "fa = open(\"file1.txt\",\"a+\")\n",
    "fa.write(\"\\nThis is a second line added to file1.txt!\")\n",
    "fa.write(\"\\nThis is another line, I can append more lines with the fa variable!\")"
   ]
  },
  {
   "cell_type": "code",
   "execution_count": 44,
   "metadata": {},
   "outputs": [
    {
     "data": {
      "text/plain": [
       "0"
      ]
     },
     "execution_count": 44,
     "metadata": {},
     "output_type": "execute_result"
    }
   ],
   "source": [
    "fa.seek(0)"
   ]
  },
  {
   "cell_type": "code",
   "execution_count": 47,
   "metadata": {},
   "outputs": [
    {
     "data": {
      "text/plain": [
       "[]"
      ]
     },
     "execution_count": 47,
     "metadata": {},
     "output_type": "execute_result"
    }
   ],
   "source": [
    "fa.readlines()"
   ]
  },
  {
   "cell_type": "code",
   "execution_count": 48,
   "metadata": {},
   "outputs": [],
   "source": [
    "fw = open(\"file1.txt\",\"w+\")"
   ]
  },
  {
   "cell_type": "code",
   "execution_count": 50,
   "metadata": {},
   "outputs": [
    {
     "data": {
      "text/plain": [
       "0"
      ]
     },
     "execution_count": 50,
     "metadata": {},
     "output_type": "execute_result"
    }
   ],
   "source": [
    "fw.seek(0)"
   ]
  },
  {
   "cell_type": "code",
   "execution_count": 51,
   "metadata": {},
   "outputs": [
    {
     "data": {
      "text/plain": [
       "''"
      ]
     },
     "execution_count": 51,
     "metadata": {},
     "output_type": "execute_result"
    }
   ],
   "source": [
    "fw.read()"
   ]
  },
  {
   "cell_type": "code",
   "execution_count": 52,
   "metadata": {},
   "outputs": [],
   "source": [
    "fa.close()"
   ]
  },
  {
   "cell_type": "code",
   "execution_count": 55,
   "metadata": {},
   "outputs": [],
   "source": [
    "fw.close()"
   ]
  },
  {
   "cell_type": "code",
   "execution_count": 56,
   "metadata": {},
   "outputs": [],
   "source": [
    "f.close()"
   ]
  },
  {
   "cell_type": "code",
   "execution_count": 57,
   "metadata": {},
   "outputs": [],
   "source": [
    "#csv and json files"
   ]
  },
  {
   "cell_type": "code",
   "execution_count": 58,
   "metadata": {},
   "outputs": [],
   "source": [
    "import pandas as pd"
   ]
  },
  {
   "cell_type": "code",
   "execution_count": 59,
   "metadata": {},
   "outputs": [],
   "source": [
    "# read online data\n",
    "myData = pd.read_csv(\"http://winterolympicsmedals.com/medals.csv\")"
   ]
  },
  {
   "cell_type": "code",
   "execution_count": 62,
   "metadata": {},
   "outputs": [
    {
     "data": {
      "text/html": [
       "<div>\n",
       "<style scoped>\n",
       "    .dataframe tbody tr th:only-of-type {\n",
       "        vertical-align: middle;\n",
       "    }\n",
       "\n",
       "    .dataframe tbody tr th {\n",
       "        vertical-align: top;\n",
       "    }\n",
       "\n",
       "    .dataframe thead th {\n",
       "        text-align: right;\n",
       "    }\n",
       "</style>\n",
       "<table border=\"1\" class=\"dataframe\">\n",
       "  <thead>\n",
       "    <tr style=\"text-align: right;\">\n",
       "      <th></th>\n",
       "      <th>Year</th>\n",
       "      <th>City</th>\n",
       "      <th>Sport</th>\n",
       "      <th>Discipline</th>\n",
       "      <th>NOC</th>\n",
       "      <th>Event</th>\n",
       "      <th>Event gender</th>\n",
       "      <th>Medal</th>\n",
       "    </tr>\n",
       "  </thead>\n",
       "  <tbody>\n",
       "    <tr>\n",
       "      <th>0</th>\n",
       "      <td>1924</td>\n",
       "      <td>Chamonix</td>\n",
       "      <td>Skating</td>\n",
       "      <td>Figure skating</td>\n",
       "      <td>AUT</td>\n",
       "      <td>individual</td>\n",
       "      <td>M</td>\n",
       "      <td>Silver</td>\n",
       "    </tr>\n",
       "    <tr>\n",
       "      <th>1</th>\n",
       "      <td>1924</td>\n",
       "      <td>Chamonix</td>\n",
       "      <td>Skating</td>\n",
       "      <td>Figure skating</td>\n",
       "      <td>AUT</td>\n",
       "      <td>individual</td>\n",
       "      <td>W</td>\n",
       "      <td>Gold</td>\n",
       "    </tr>\n",
       "    <tr>\n",
       "      <th>2</th>\n",
       "      <td>1924</td>\n",
       "      <td>Chamonix</td>\n",
       "      <td>Skating</td>\n",
       "      <td>Figure skating</td>\n",
       "      <td>AUT</td>\n",
       "      <td>pairs</td>\n",
       "      <td>X</td>\n",
       "      <td>Gold</td>\n",
       "    </tr>\n",
       "    <tr>\n",
       "      <th>3</th>\n",
       "      <td>1924</td>\n",
       "      <td>Chamonix</td>\n",
       "      <td>Bobsleigh</td>\n",
       "      <td>Bobsleigh</td>\n",
       "      <td>BEL</td>\n",
       "      <td>four-man</td>\n",
       "      <td>M</td>\n",
       "      <td>Bronze</td>\n",
       "    </tr>\n",
       "    <tr>\n",
       "      <th>4</th>\n",
       "      <td>1924</td>\n",
       "      <td>Chamonix</td>\n",
       "      <td>Ice Hockey</td>\n",
       "      <td>Ice Hockey</td>\n",
       "      <td>CAN</td>\n",
       "      <td>ice hockey</td>\n",
       "      <td>M</td>\n",
       "      <td>Gold</td>\n",
       "    </tr>\n",
       "    <tr>\n",
       "      <th>...</th>\n",
       "      <td>...</td>\n",
       "      <td>...</td>\n",
       "      <td>...</td>\n",
       "      <td>...</td>\n",
       "      <td>...</td>\n",
       "      <td>...</td>\n",
       "      <td>...</td>\n",
       "      <td>...</td>\n",
       "    </tr>\n",
       "    <tr>\n",
       "      <th>2306</th>\n",
       "      <td>2006</td>\n",
       "      <td>Turin</td>\n",
       "      <td>Skiing</td>\n",
       "      <td>Snowboard</td>\n",
       "      <td>USA</td>\n",
       "      <td>Half-pipe</td>\n",
       "      <td>M</td>\n",
       "      <td>Silver</td>\n",
       "    </tr>\n",
       "    <tr>\n",
       "      <th>2307</th>\n",
       "      <td>2006</td>\n",
       "      <td>Turin</td>\n",
       "      <td>Skiing</td>\n",
       "      <td>Snowboard</td>\n",
       "      <td>USA</td>\n",
       "      <td>Half-pipe</td>\n",
       "      <td>W</td>\n",
       "      <td>Gold</td>\n",
       "    </tr>\n",
       "    <tr>\n",
       "      <th>2308</th>\n",
       "      <td>2006</td>\n",
       "      <td>Turin</td>\n",
       "      <td>Skiing</td>\n",
       "      <td>Snowboard</td>\n",
       "      <td>USA</td>\n",
       "      <td>Half-pipe</td>\n",
       "      <td>W</td>\n",
       "      <td>Silver</td>\n",
       "    </tr>\n",
       "    <tr>\n",
       "      <th>2309</th>\n",
       "      <td>2006</td>\n",
       "      <td>Turin</td>\n",
       "      <td>Skiing</td>\n",
       "      <td>Snowboard</td>\n",
       "      <td>USA</td>\n",
       "      <td>Snowboard Cross</td>\n",
       "      <td>M</td>\n",
       "      <td>Gold</td>\n",
       "    </tr>\n",
       "    <tr>\n",
       "      <th>2310</th>\n",
       "      <td>2006</td>\n",
       "      <td>Turin</td>\n",
       "      <td>Skiing</td>\n",
       "      <td>Snowboard</td>\n",
       "      <td>USA</td>\n",
       "      <td>Snowboard Cross</td>\n",
       "      <td>W</td>\n",
       "      <td>Silver</td>\n",
       "    </tr>\n",
       "  </tbody>\n",
       "</table>\n",
       "<p>2311 rows × 8 columns</p>\n",
       "</div>"
      ],
      "text/plain": [
       "      Year      City       Sport      Discipline  NOC            Event  \\\n",
       "0     1924  Chamonix     Skating  Figure skating  AUT       individual   \n",
       "1     1924  Chamonix     Skating  Figure skating  AUT       individual   \n",
       "2     1924  Chamonix     Skating  Figure skating  AUT            pairs   \n",
       "3     1924  Chamonix   Bobsleigh       Bobsleigh  BEL         four-man   \n",
       "4     1924  Chamonix  Ice Hockey      Ice Hockey  CAN       ice hockey   \n",
       "...    ...       ...         ...             ...  ...              ...   \n",
       "2306  2006     Turin      Skiing       Snowboard  USA        Half-pipe   \n",
       "2307  2006     Turin      Skiing       Snowboard  USA        Half-pipe   \n",
       "2308  2006     Turin      Skiing       Snowboard  USA        Half-pipe   \n",
       "2309  2006     Turin      Skiing       Snowboard  USA  Snowboard Cross   \n",
       "2310  2006     Turin      Skiing       Snowboard  USA  Snowboard Cross   \n",
       "\n",
       "     Event gender   Medal  \n",
       "0               M  Silver  \n",
       "1               W    Gold  \n",
       "2               X    Gold  \n",
       "3               M  Bronze  \n",
       "4               M    Gold  \n",
       "...           ...     ...  \n",
       "2306            M  Silver  \n",
       "2307            W    Gold  \n",
       "2308            W  Silver  \n",
       "2309            M    Gold  \n",
       "2310            W  Silver  \n",
       "\n",
       "[2311 rows x 8 columns]"
      ]
     },
     "execution_count": 62,
     "metadata": {},
     "output_type": "execute_result"
    }
   ],
   "source": [
    "myData"
   ]
  },
  {
   "cell_type": "code",
   "execution_count": 63,
   "metadata": {},
   "outputs": [
    {
     "data": {
      "text/plain": [
       "pandas.core.frame.DataFrame"
      ]
     },
     "execution_count": 63,
     "metadata": {},
     "output_type": "execute_result"
    }
   ],
   "source": [
    "type(myData)"
   ]
  },
  {
   "cell_type": "code",
   "execution_count": 64,
   "metadata": {},
   "outputs": [
    {
     "name": "stdout",
     "output_type": "stream",
     "text": [
      "<class 'pandas.core.frame.DataFrame'>\n",
      "RangeIndex: 2311 entries, 0 to 2310\n",
      "Data columns (total 8 columns):\n",
      " #   Column        Non-Null Count  Dtype \n",
      "---  ------        --------------  ----- \n",
      " 0   Year          2311 non-null   int64 \n",
      " 1   City          2311 non-null   object\n",
      " 2   Sport         2311 non-null   object\n",
      " 3   Discipline    2311 non-null   object\n",
      " 4   NOC           2311 non-null   object\n",
      " 5   Event         2311 non-null   object\n",
      " 6   Event gender  2311 non-null   object\n",
      " 7   Medal         2311 non-null   object\n",
      "dtypes: int64(1), object(7)\n",
      "memory usage: 144.6+ KB\n"
     ]
    }
   ],
   "source": [
    "myData.info()"
   ]
  },
  {
   "cell_type": "code",
   "execution_count": 65,
   "metadata": {},
   "outputs": [],
   "source": [
    "year = myData['Year'].tolist()"
   ]
  },
  {
   "cell_type": "code",
   "execution_count": 66,
   "metadata": {},
   "outputs": [
    {
     "data": {
      "text/plain": [
       "[1924,\n",
       " 1924,\n",
       " 1924,\n",
       " 1924,\n",
       " 1924,\n",
       " 1924,\n",
       " 1924,\n",
       " 1924,\n",
       " 1924,\n",
       " 1924,\n",
       " 1924,\n",
       " 1924,\n",
       " 1924,\n",
       " 1924,\n",
       " 1924,\n",
       " 1924,\n",
       " 1924,\n",
       " 1924,\n",
       " 1924,\n",
       " 1924,\n",
       " 1924,\n",
       " 1924,\n",
       " 1924,\n",
       " 1924,\n",
       " 1924,\n",
       " 1924,\n",
       " 1924,\n",
       " 1924,\n",
       " 1924,\n",
       " 1924,\n",
       " 1924,\n",
       " 1924,\n",
       " 1924,\n",
       " 1924,\n",
       " 1924,\n",
       " 1924,\n",
       " 1924,\n",
       " 1924,\n",
       " 1924,\n",
       " 1924,\n",
       " 1924,\n",
       " 1924,\n",
       " 1924,\n",
       " 1924,\n",
       " 1924,\n",
       " 1924,\n",
       " 1924,\n",
       " 1924,\n",
       " 1924,\n",
       " 1928,\n",
       " 1928,\n",
       " 1928,\n",
       " 1928,\n",
       " 1928,\n",
       " 1928,\n",
       " 1928,\n",
       " 1928,\n",
       " 1928,\n",
       " 1928,\n",
       " 1928,\n",
       " 1928,\n",
       " 1928,\n",
       " 1928,\n",
       " 1928,\n",
       " 1928,\n",
       " 1928,\n",
       " 1928,\n",
       " 1928,\n",
       " 1928,\n",
       " 1928,\n",
       " 1928,\n",
       " 1928,\n",
       " 1928,\n",
       " 1928,\n",
       " 1928,\n",
       " 1928,\n",
       " 1928,\n",
       " 1928,\n",
       " 1928,\n",
       " 1928,\n",
       " 1928,\n",
       " 1928,\n",
       " 1928,\n",
       " 1928,\n",
       " 1928,\n",
       " 1928,\n",
       " 1928,\n",
       " 1928,\n",
       " 1928,\n",
       " 1928,\n",
       " 1932,\n",
       " 1932,\n",
       " 1932,\n",
       " 1932,\n",
       " 1932,\n",
       " 1932,\n",
       " 1932,\n",
       " 1932,\n",
       " 1932,\n",
       " 1932,\n",
       " 1932,\n",
       " 1932,\n",
       " 1932,\n",
       " 1932,\n",
       " 1932,\n",
       " 1932,\n",
       " 1932,\n",
       " 1932,\n",
       " 1932,\n",
       " 1932,\n",
       " 1932,\n",
       " 1932,\n",
       " 1932,\n",
       " 1932,\n",
       " 1932,\n",
       " 1932,\n",
       " 1932,\n",
       " 1932,\n",
       " 1932,\n",
       " 1932,\n",
       " 1932,\n",
       " 1932,\n",
       " 1932,\n",
       " 1932,\n",
       " 1932,\n",
       " 1932,\n",
       " 1932,\n",
       " 1932,\n",
       " 1932,\n",
       " 1932,\n",
       " 1932,\n",
       " 1932,\n",
       " 1936,\n",
       " 1936,\n",
       " 1936,\n",
       " 1936,\n",
       " 1936,\n",
       " 1936,\n",
       " 1936,\n",
       " 1936,\n",
       " 1936,\n",
       " 1936,\n",
       " 1936,\n",
       " 1936,\n",
       " 1936,\n",
       " 1936,\n",
       " 1936,\n",
       " 1936,\n",
       " 1936,\n",
       " 1936,\n",
       " 1936,\n",
       " 1936,\n",
       " 1936,\n",
       " 1936,\n",
       " 1936,\n",
       " 1936,\n",
       " 1936,\n",
       " 1936,\n",
       " 1936,\n",
       " 1936,\n",
       " 1936,\n",
       " 1936,\n",
       " 1936,\n",
       " 1936,\n",
       " 1936,\n",
       " 1936,\n",
       " 1936,\n",
       " 1936,\n",
       " 1936,\n",
       " 1936,\n",
       " 1936,\n",
       " 1936,\n",
       " 1936,\n",
       " 1936,\n",
       " 1936,\n",
       " 1936,\n",
       " 1936,\n",
       " 1936,\n",
       " 1936,\n",
       " 1936,\n",
       " 1936,\n",
       " 1936,\n",
       " 1936,\n",
       " 1948,\n",
       " 1948,\n",
       " 1948,\n",
       " 1948,\n",
       " 1948,\n",
       " 1948,\n",
       " 1948,\n",
       " 1948,\n",
       " 1948,\n",
       " 1948,\n",
       " 1948,\n",
       " 1948,\n",
       " 1948,\n",
       " 1948,\n",
       " 1948,\n",
       " 1948,\n",
       " 1948,\n",
       " 1948,\n",
       " 1948,\n",
       " 1948,\n",
       " 1948,\n",
       " 1948,\n",
       " 1948,\n",
       " 1948,\n",
       " 1948,\n",
       " 1948,\n",
       " 1948,\n",
       " 1948,\n",
       " 1948,\n",
       " 1948,\n",
       " 1948,\n",
       " 1948,\n",
       " 1948,\n",
       " 1948,\n",
       " 1948,\n",
       " 1948,\n",
       " 1948,\n",
       " 1948,\n",
       " 1948,\n",
       " 1948,\n",
       " 1948,\n",
       " 1948,\n",
       " 1948,\n",
       " 1948,\n",
       " 1948,\n",
       " 1948,\n",
       " 1948,\n",
       " 1948,\n",
       " 1948,\n",
       " 1948,\n",
       " 1948,\n",
       " 1948,\n",
       " 1948,\n",
       " 1948,\n",
       " 1948,\n",
       " 1948,\n",
       " 1948,\n",
       " 1948,\n",
       " 1948,\n",
       " 1948,\n",
       " 1948,\n",
       " 1948,\n",
       " 1948,\n",
       " 1948,\n",
       " 1948,\n",
       " 1948,\n",
       " 1948,\n",
       " 1948,\n",
       " 1952,\n",
       " 1952,\n",
       " 1952,\n",
       " 1952,\n",
       " 1952,\n",
       " 1952,\n",
       " 1952,\n",
       " 1952,\n",
       " 1952,\n",
       " 1952,\n",
       " 1952,\n",
       " 1952,\n",
       " 1952,\n",
       " 1952,\n",
       " 1952,\n",
       " 1952,\n",
       " 1952,\n",
       " 1952,\n",
       " 1952,\n",
       " 1952,\n",
       " 1952,\n",
       " 1952,\n",
       " 1952,\n",
       " 1952,\n",
       " 1952,\n",
       " 1952,\n",
       " 1952,\n",
       " 1952,\n",
       " 1952,\n",
       " 1952,\n",
       " 1952,\n",
       " 1952,\n",
       " 1952,\n",
       " 1952,\n",
       " 1952,\n",
       " 1952,\n",
       " 1952,\n",
       " 1952,\n",
       " 1952,\n",
       " 1952,\n",
       " 1952,\n",
       " 1952,\n",
       " 1952,\n",
       " 1952,\n",
       " 1952,\n",
       " 1952,\n",
       " 1952,\n",
       " 1952,\n",
       " 1952,\n",
       " 1952,\n",
       " 1952,\n",
       " 1952,\n",
       " 1952,\n",
       " 1952,\n",
       " 1952,\n",
       " 1952,\n",
       " 1952,\n",
       " 1952,\n",
       " 1952,\n",
       " 1952,\n",
       " 1952,\n",
       " 1952,\n",
       " 1952,\n",
       " 1952,\n",
       " 1952,\n",
       " 1952,\n",
       " 1952,\n",
       " 1956,\n",
       " 1956,\n",
       " 1956,\n",
       " 1956,\n",
       " 1956,\n",
       " 1956,\n",
       " 1956,\n",
       " 1956,\n",
       " 1956,\n",
       " 1956,\n",
       " 1956,\n",
       " 1956,\n",
       " 1956,\n",
       " 1956,\n",
       " 1956,\n",
       " 1956,\n",
       " 1956,\n",
       " 1956,\n",
       " 1956,\n",
       " 1956,\n",
       " 1956,\n",
       " 1956,\n",
       " 1956,\n",
       " 1956,\n",
       " 1956,\n",
       " 1956,\n",
       " 1956,\n",
       " 1956,\n",
       " 1956,\n",
       " 1956,\n",
       " 1956,\n",
       " 1956,\n",
       " 1956,\n",
       " 1956,\n",
       " 1956,\n",
       " 1956,\n",
       " 1956,\n",
       " 1956,\n",
       " 1956,\n",
       " 1956,\n",
       " 1956,\n",
       " 1956,\n",
       " 1956,\n",
       " 1956,\n",
       " 1956,\n",
       " 1956,\n",
       " 1956,\n",
       " 1956,\n",
       " 1956,\n",
       " 1956,\n",
       " 1956,\n",
       " 1956,\n",
       " 1956,\n",
       " 1956,\n",
       " 1956,\n",
       " 1956,\n",
       " 1956,\n",
       " 1956,\n",
       " 1956,\n",
       " 1956,\n",
       " 1956,\n",
       " 1956,\n",
       " 1956,\n",
       " 1956,\n",
       " 1956,\n",
       " 1956,\n",
       " 1956,\n",
       " 1956,\n",
       " 1956,\n",
       " 1956,\n",
       " 1956,\n",
       " 1956,\n",
       " 1960,\n",
       " 1960,\n",
       " 1960,\n",
       " 1960,\n",
       " 1960,\n",
       " 1960,\n",
       " 1960,\n",
       " 1960,\n",
       " 1960,\n",
       " 1960,\n",
       " 1960,\n",
       " 1960,\n",
       " 1960,\n",
       " 1960,\n",
       " 1960,\n",
       " 1960,\n",
       " 1960,\n",
       " 1960,\n",
       " 1960,\n",
       " 1960,\n",
       " 1960,\n",
       " 1960,\n",
       " 1960,\n",
       " 1960,\n",
       " 1960,\n",
       " 1960,\n",
       " 1960,\n",
       " 1960,\n",
       " 1960,\n",
       " 1960,\n",
       " 1960,\n",
       " 1960,\n",
       " 1960,\n",
       " 1960,\n",
       " 1960,\n",
       " 1960,\n",
       " 1960,\n",
       " 1960,\n",
       " 1960,\n",
       " 1960,\n",
       " 1960,\n",
       " 1960,\n",
       " 1960,\n",
       " 1960,\n",
       " 1960,\n",
       " 1960,\n",
       " 1960,\n",
       " 1960,\n",
       " 1960,\n",
       " 1960,\n",
       " 1960,\n",
       " 1960,\n",
       " 1960,\n",
       " 1960,\n",
       " 1960,\n",
       " 1960,\n",
       " 1960,\n",
       " 1960,\n",
       " 1960,\n",
       " 1960,\n",
       " 1960,\n",
       " 1960,\n",
       " 1960,\n",
       " 1960,\n",
       " 1960,\n",
       " 1960,\n",
       " 1960,\n",
       " 1960,\n",
       " 1960,\n",
       " 1960,\n",
       " 1960,\n",
       " 1960,\n",
       " 1960,\n",
       " 1960,\n",
       " 1960,\n",
       " 1960,\n",
       " 1960,\n",
       " 1960,\n",
       " 1960,\n",
       " 1960,\n",
       " 1960,\n",
       " 1964,\n",
       " 1964,\n",
       " 1964,\n",
       " 1964,\n",
       " 1964,\n",
       " 1964,\n",
       " 1964,\n",
       " 1964,\n",
       " 1964,\n",
       " 1964,\n",
       " 1964,\n",
       " 1964,\n",
       " 1964,\n",
       " 1964,\n",
       " 1964,\n",
       " 1964,\n",
       " 1964,\n",
       " 1964,\n",
       " 1964,\n",
       " 1964,\n",
       " 1964,\n",
       " 1964,\n",
       " 1964,\n",
       " 1964,\n",
       " 1964,\n",
       " 1964,\n",
       " 1964,\n",
       " 1964,\n",
       " 1964,\n",
       " 1964,\n",
       " 1964,\n",
       " 1964,\n",
       " 1964,\n",
       " 1964,\n",
       " 1964,\n",
       " 1964,\n",
       " 1964,\n",
       " 1964,\n",
       " 1964,\n",
       " 1964,\n",
       " 1964,\n",
       " 1964,\n",
       " 1964,\n",
       " 1964,\n",
       " 1964,\n",
       " 1964,\n",
       " 1964,\n",
       " 1964,\n",
       " 1964,\n",
       " 1964,\n",
       " 1964,\n",
       " 1964,\n",
       " 1964,\n",
       " 1964,\n",
       " 1964,\n",
       " 1964,\n",
       " 1964,\n",
       " 1964,\n",
       " 1964,\n",
       " 1964,\n",
       " 1964,\n",
       " 1964,\n",
       " 1964,\n",
       " 1964,\n",
       " 1964,\n",
       " 1964,\n",
       " 1964,\n",
       " 1964,\n",
       " 1964,\n",
       " 1964,\n",
       " 1964,\n",
       " 1964,\n",
       " 1964,\n",
       " 1964,\n",
       " 1964,\n",
       " 1964,\n",
       " 1964,\n",
       " 1964,\n",
       " 1964,\n",
       " 1964,\n",
       " 1964,\n",
       " 1964,\n",
       " 1964,\n",
       " 1964,\n",
       " 1964,\n",
       " 1964,\n",
       " 1964,\n",
       " 1964,\n",
       " 1964,\n",
       " 1964,\n",
       " 1964,\n",
       " 1964,\n",
       " 1964,\n",
       " 1964,\n",
       " 1964,\n",
       " 1964,\n",
       " 1964,\n",
       " 1964,\n",
       " 1964,\n",
       " 1964,\n",
       " 1964,\n",
       " 1964,\n",
       " 1964,\n",
       " 1968,\n",
       " 1968,\n",
       " 1968,\n",
       " 1968,\n",
       " 1968,\n",
       " 1968,\n",
       " 1968,\n",
       " 1968,\n",
       " 1968,\n",
       " 1968,\n",
       " 1968,\n",
       " 1968,\n",
       " 1968,\n",
       " 1968,\n",
       " 1968,\n",
       " 1968,\n",
       " 1968,\n",
       " 1968,\n",
       " 1968,\n",
       " 1968,\n",
       " 1968,\n",
       " 1968,\n",
       " 1968,\n",
       " 1968,\n",
       " 1968,\n",
       " 1968,\n",
       " 1968,\n",
       " 1968,\n",
       " 1968,\n",
       " 1968,\n",
       " 1968,\n",
       " 1968,\n",
       " 1968,\n",
       " 1968,\n",
       " 1968,\n",
       " 1968,\n",
       " 1968,\n",
       " 1968,\n",
       " 1968,\n",
       " 1968,\n",
       " 1968,\n",
       " 1968,\n",
       " 1968,\n",
       " 1968,\n",
       " 1968,\n",
       " 1968,\n",
       " 1968,\n",
       " 1968,\n",
       " 1968,\n",
       " 1968,\n",
       " 1968,\n",
       " 1968,\n",
       " 1968,\n",
       " 1968,\n",
       " 1968,\n",
       " 1968,\n",
       " 1968,\n",
       " 1968,\n",
       " 1968,\n",
       " 1968,\n",
       " 1968,\n",
       " 1968,\n",
       " 1968,\n",
       " 1968,\n",
       " 1968,\n",
       " 1968,\n",
       " 1968,\n",
       " 1968,\n",
       " 1968,\n",
       " 1968,\n",
       " 1968,\n",
       " 1968,\n",
       " 1968,\n",
       " 1968,\n",
       " 1968,\n",
       " 1968,\n",
       " 1968,\n",
       " 1968,\n",
       " 1968,\n",
       " 1968,\n",
       " 1968,\n",
       " 1968,\n",
       " 1968,\n",
       " 1968,\n",
       " 1968,\n",
       " 1968,\n",
       " 1968,\n",
       " 1968,\n",
       " 1968,\n",
       " 1968,\n",
       " 1968,\n",
       " 1968,\n",
       " 1968,\n",
       " 1968,\n",
       " 1968,\n",
       " 1968,\n",
       " 1968,\n",
       " 1968,\n",
       " 1968,\n",
       " 1968,\n",
       " 1968,\n",
       " 1968,\n",
       " 1968,\n",
       " 1968,\n",
       " 1968,\n",
       " 1968,\n",
       " 1972,\n",
       " 1972,\n",
       " 1972,\n",
       " 1972,\n",
       " 1972,\n",
       " 1972,\n",
       " 1972,\n",
       " 1972,\n",
       " 1972,\n",
       " 1972,\n",
       " 1972,\n",
       " 1972,\n",
       " 1972,\n",
       " 1972,\n",
       " 1972,\n",
       " 1972,\n",
       " 1972,\n",
       " 1972,\n",
       " 1972,\n",
       " 1972,\n",
       " 1972,\n",
       " 1972,\n",
       " 1972,\n",
       " 1972,\n",
       " 1972,\n",
       " 1972,\n",
       " 1972,\n",
       " 1972,\n",
       " 1972,\n",
       " 1972,\n",
       " 1972,\n",
       " 1972,\n",
       " 1972,\n",
       " 1972,\n",
       " 1972,\n",
       " 1972,\n",
       " 1972,\n",
       " 1972,\n",
       " 1972,\n",
       " 1972,\n",
       " 1972,\n",
       " 1972,\n",
       " 1972,\n",
       " 1972,\n",
       " 1972,\n",
       " 1972,\n",
       " 1972,\n",
       " 1972,\n",
       " 1972,\n",
       " 1972,\n",
       " 1972,\n",
       " 1972,\n",
       " 1972,\n",
       " 1972,\n",
       " 1972,\n",
       " 1972,\n",
       " 1972,\n",
       " 1972,\n",
       " 1972,\n",
       " 1972,\n",
       " 1972,\n",
       " 1972,\n",
       " 1972,\n",
       " 1972,\n",
       " 1972,\n",
       " 1972,\n",
       " 1972,\n",
       " 1972,\n",
       " 1972,\n",
       " 1972,\n",
       " 1972,\n",
       " 1972,\n",
       " 1972,\n",
       " 1972,\n",
       " 1972,\n",
       " 1972,\n",
       " 1972,\n",
       " 1972,\n",
       " 1972,\n",
       " 1972,\n",
       " 1972,\n",
       " 1972,\n",
       " 1972,\n",
       " 1972,\n",
       " 1972,\n",
       " 1972,\n",
       " 1972,\n",
       " 1972,\n",
       " 1972,\n",
       " 1972,\n",
       " 1972,\n",
       " 1972,\n",
       " 1972,\n",
       " 1972,\n",
       " 1972,\n",
       " 1972,\n",
       " 1972,\n",
       " 1972,\n",
       " 1972,\n",
       " 1972,\n",
       " 1972,\n",
       " 1972,\n",
       " 1972,\n",
       " 1972,\n",
       " 1972,\n",
       " 1976,\n",
       " 1976,\n",
       " 1976,\n",
       " 1976,\n",
       " 1976,\n",
       " 1976,\n",
       " 1976,\n",
       " 1976,\n",
       " 1976,\n",
       " 1976,\n",
       " 1976,\n",
       " 1976,\n",
       " 1976,\n",
       " 1976,\n",
       " 1976,\n",
       " 1976,\n",
       " 1976,\n",
       " 1976,\n",
       " 1976,\n",
       " 1976,\n",
       " 1976,\n",
       " 1976,\n",
       " 1976,\n",
       " 1976,\n",
       " 1976,\n",
       " 1976,\n",
       " 1976,\n",
       " 1976,\n",
       " 1976,\n",
       " 1976,\n",
       " 1976,\n",
       " 1976,\n",
       " 1976,\n",
       " 1976,\n",
       " 1976,\n",
       " 1976,\n",
       " 1976,\n",
       " 1976,\n",
       " 1976,\n",
       " 1976,\n",
       " 1976,\n",
       " 1976,\n",
       " 1976,\n",
       " 1976,\n",
       " 1976,\n",
       " 1976,\n",
       " 1976,\n",
       " 1976,\n",
       " 1976,\n",
       " 1976,\n",
       " 1976,\n",
       " 1976,\n",
       " 1976,\n",
       " 1976,\n",
       " 1976,\n",
       " 1976,\n",
       " 1976,\n",
       " 1976,\n",
       " 1976,\n",
       " 1976,\n",
       " 1976,\n",
       " 1976,\n",
       " 1976,\n",
       " 1976,\n",
       " 1976,\n",
       " 1976,\n",
       " 1976,\n",
       " 1976,\n",
       " 1976,\n",
       " 1976,\n",
       " 1976,\n",
       " 1976,\n",
       " 1976,\n",
       " 1976,\n",
       " 1976,\n",
       " 1976,\n",
       " 1976,\n",
       " 1976,\n",
       " 1976,\n",
       " 1976,\n",
       " 1976,\n",
       " 1976,\n",
       " 1976,\n",
       " 1976,\n",
       " 1976,\n",
       " 1976,\n",
       " 1976,\n",
       " 1976,\n",
       " 1976,\n",
       " 1976,\n",
       " 1976,\n",
       " 1976,\n",
       " 1976,\n",
       " 1976,\n",
       " 1976,\n",
       " 1976,\n",
       " 1976,\n",
       " 1976,\n",
       " 1976,\n",
       " 1976,\n",
       " 1976,\n",
       " 1976,\n",
       " 1976,\n",
       " 1976,\n",
       " 1976,\n",
       " 1976,\n",
       " 1976,\n",
       " 1976,\n",
       " 1976,\n",
       " 1976,\n",
       " 1976,\n",
       " 1980,\n",
       " 1980,\n",
       " 1980,\n",
       " 1980,\n",
       " 1980,\n",
       " 1980,\n",
       " 1980,\n",
       " 1980,\n",
       " 1980,\n",
       " 1980,\n",
       " 1980,\n",
       " 1980,\n",
       " 1980,\n",
       " 1980,\n",
       " 1980,\n",
       " 1980,\n",
       " 1980,\n",
       " 1980,\n",
       " 1980,\n",
       " 1980,\n",
       " 1980,\n",
       " 1980,\n",
       " 1980,\n",
       " 1980,\n",
       " 1980,\n",
       " 1980,\n",
       " 1980,\n",
       " 1980,\n",
       " 1980,\n",
       " 1980,\n",
       " 1980,\n",
       " 1980,\n",
       " 1980,\n",
       " 1980,\n",
       " 1980,\n",
       " 1980,\n",
       " 1980,\n",
       " 1980,\n",
       " 1980,\n",
       " 1980,\n",
       " 1980,\n",
       " 1980,\n",
       " 1980,\n",
       " 1980,\n",
       " 1980,\n",
       " 1980,\n",
       " 1980,\n",
       " 1980,\n",
       " 1980,\n",
       " 1980,\n",
       " 1980,\n",
       " 1980,\n",
       " 1980,\n",
       " 1980,\n",
       " 1980,\n",
       " 1980,\n",
       " 1980,\n",
       " 1980,\n",
       " 1980,\n",
       " 1980,\n",
       " 1980,\n",
       " 1980,\n",
       " 1980,\n",
       " 1980,\n",
       " 1980,\n",
       " 1980,\n",
       " 1980,\n",
       " 1980,\n",
       " 1980,\n",
       " 1980,\n",
       " 1980,\n",
       " 1980,\n",
       " 1980,\n",
       " 1980,\n",
       " 1980,\n",
       " 1980,\n",
       " 1980,\n",
       " 1980,\n",
       " 1980,\n",
       " 1980,\n",
       " 1980,\n",
       " 1980,\n",
       " 1980,\n",
       " 1980,\n",
       " 1980,\n",
       " 1980,\n",
       " 1980,\n",
       " 1980,\n",
       " 1980,\n",
       " 1980,\n",
       " 1980,\n",
       " 1980,\n",
       " 1980,\n",
       " 1980,\n",
       " 1980,\n",
       " 1980,\n",
       " 1980,\n",
       " 1980,\n",
       " 1980,\n",
       " 1980,\n",
       " 1980,\n",
       " 1980,\n",
       " 1980,\n",
       " 1980,\n",
       " ...]"
      ]
     },
     "execution_count": 66,
     "metadata": {},
     "output_type": "execute_result"
    }
   ],
   "source": [
    "year"
   ]
  },
  {
   "cell_type": "code",
   "execution_count": 67,
   "metadata": {},
   "outputs": [
    {
     "data": {
      "text/html": [
       "<div>\n",
       "<style scoped>\n",
       "    .dataframe tbody tr th:only-of-type {\n",
       "        vertical-align: middle;\n",
       "    }\n",
       "\n",
       "    .dataframe tbody tr th {\n",
       "        vertical-align: top;\n",
       "    }\n",
       "\n",
       "    .dataframe thead th {\n",
       "        text-align: right;\n",
       "    }\n",
       "</style>\n",
       "<table border=\"1\" class=\"dataframe\">\n",
       "  <thead>\n",
       "    <tr style=\"text-align: right;\">\n",
       "      <th></th>\n",
       "      <th>Year</th>\n",
       "      <th>City</th>\n",
       "      <th>Sport</th>\n",
       "      <th>Discipline</th>\n",
       "      <th>NOC</th>\n",
       "      <th>Event</th>\n",
       "      <th>Event gender</th>\n",
       "      <th>Medal</th>\n",
       "    </tr>\n",
       "  </thead>\n",
       "  <tbody>\n",
       "    <tr>\n",
       "      <th>0</th>\n",
       "      <td>1924</td>\n",
       "      <td>Chamonix</td>\n",
       "      <td>Skating</td>\n",
       "      <td>Figure skating</td>\n",
       "      <td>AUT</td>\n",
       "      <td>individual</td>\n",
       "      <td>M</td>\n",
       "      <td>Silver</td>\n",
       "    </tr>\n",
       "    <tr>\n",
       "      <th>1</th>\n",
       "      <td>1924</td>\n",
       "      <td>Chamonix</td>\n",
       "      <td>Skating</td>\n",
       "      <td>Figure skating</td>\n",
       "      <td>AUT</td>\n",
       "      <td>individual</td>\n",
       "      <td>W</td>\n",
       "      <td>Gold</td>\n",
       "    </tr>\n",
       "    <tr>\n",
       "      <th>2</th>\n",
       "      <td>1924</td>\n",
       "      <td>Chamonix</td>\n",
       "      <td>Skating</td>\n",
       "      <td>Figure skating</td>\n",
       "      <td>AUT</td>\n",
       "      <td>pairs</td>\n",
       "      <td>X</td>\n",
       "      <td>Gold</td>\n",
       "    </tr>\n",
       "    <tr>\n",
       "      <th>3</th>\n",
       "      <td>1924</td>\n",
       "      <td>Chamonix</td>\n",
       "      <td>Bobsleigh</td>\n",
       "      <td>Bobsleigh</td>\n",
       "      <td>BEL</td>\n",
       "      <td>four-man</td>\n",
       "      <td>M</td>\n",
       "      <td>Bronze</td>\n",
       "    </tr>\n",
       "    <tr>\n",
       "      <th>4</th>\n",
       "      <td>1924</td>\n",
       "      <td>Chamonix</td>\n",
       "      <td>Ice Hockey</td>\n",
       "      <td>Ice Hockey</td>\n",
       "      <td>CAN</td>\n",
       "      <td>ice hockey</td>\n",
       "      <td>M</td>\n",
       "      <td>Gold</td>\n",
       "    </tr>\n",
       "    <tr>\n",
       "      <th>...</th>\n",
       "      <td>...</td>\n",
       "      <td>...</td>\n",
       "      <td>...</td>\n",
       "      <td>...</td>\n",
       "      <td>...</td>\n",
       "      <td>...</td>\n",
       "      <td>...</td>\n",
       "      <td>...</td>\n",
       "    </tr>\n",
       "    <tr>\n",
       "      <th>2306</th>\n",
       "      <td>2006</td>\n",
       "      <td>Turin</td>\n",
       "      <td>Skiing</td>\n",
       "      <td>Snowboard</td>\n",
       "      <td>USA</td>\n",
       "      <td>Half-pipe</td>\n",
       "      <td>M</td>\n",
       "      <td>Silver</td>\n",
       "    </tr>\n",
       "    <tr>\n",
       "      <th>2307</th>\n",
       "      <td>2006</td>\n",
       "      <td>Turin</td>\n",
       "      <td>Skiing</td>\n",
       "      <td>Snowboard</td>\n",
       "      <td>USA</td>\n",
       "      <td>Half-pipe</td>\n",
       "      <td>W</td>\n",
       "      <td>Gold</td>\n",
       "    </tr>\n",
       "    <tr>\n",
       "      <th>2308</th>\n",
       "      <td>2006</td>\n",
       "      <td>Turin</td>\n",
       "      <td>Skiing</td>\n",
       "      <td>Snowboard</td>\n",
       "      <td>USA</td>\n",
       "      <td>Half-pipe</td>\n",
       "      <td>W</td>\n",
       "      <td>Silver</td>\n",
       "    </tr>\n",
       "    <tr>\n",
       "      <th>2309</th>\n",
       "      <td>2006</td>\n",
       "      <td>Turin</td>\n",
       "      <td>Skiing</td>\n",
       "      <td>Snowboard</td>\n",
       "      <td>USA</td>\n",
       "      <td>Snowboard Cross</td>\n",
       "      <td>M</td>\n",
       "      <td>Gold</td>\n",
       "    </tr>\n",
       "    <tr>\n",
       "      <th>2310</th>\n",
       "      <td>2006</td>\n",
       "      <td>Turin</td>\n",
       "      <td>Skiing</td>\n",
       "      <td>Snowboard</td>\n",
       "      <td>USA</td>\n",
       "      <td>Snowboard Cross</td>\n",
       "      <td>W</td>\n",
       "      <td>Silver</td>\n",
       "    </tr>\n",
       "  </tbody>\n",
       "</table>\n",
       "<p>2311 rows × 8 columns</p>\n",
       "</div>"
      ],
      "text/plain": [
       "      Year      City       Sport      Discipline  NOC            Event  \\\n",
       "0     1924  Chamonix     Skating  Figure skating  AUT       individual   \n",
       "1     1924  Chamonix     Skating  Figure skating  AUT       individual   \n",
       "2     1924  Chamonix     Skating  Figure skating  AUT            pairs   \n",
       "3     1924  Chamonix   Bobsleigh       Bobsleigh  BEL         four-man   \n",
       "4     1924  Chamonix  Ice Hockey      Ice Hockey  CAN       ice hockey   \n",
       "...    ...       ...         ...             ...  ...              ...   \n",
       "2306  2006     Turin      Skiing       Snowboard  USA        Half-pipe   \n",
       "2307  2006     Turin      Skiing       Snowboard  USA        Half-pipe   \n",
       "2308  2006     Turin      Skiing       Snowboard  USA        Half-pipe   \n",
       "2309  2006     Turin      Skiing       Snowboard  USA  Snowboard Cross   \n",
       "2310  2006     Turin      Skiing       Snowboard  USA  Snowboard Cross   \n",
       "\n",
       "     Event gender   Medal  \n",
       "0               M  Silver  \n",
       "1               W    Gold  \n",
       "2               X    Gold  \n",
       "3               M  Bronze  \n",
       "4               M    Gold  \n",
       "...           ...     ...  \n",
       "2306            M  Silver  \n",
       "2307            W    Gold  \n",
       "2308            W  Silver  \n",
       "2309            M    Gold  \n",
       "2310            W  Silver  \n",
       "\n",
       "[2311 rows x 8 columns]"
      ]
     },
     "execution_count": 67,
     "metadata": {},
     "output_type": "execute_result"
    }
   ],
   "source": [
    "myData"
   ]
  },
  {
   "cell_type": "code",
   "execution_count": 68,
   "metadata": {},
   "outputs": [],
   "source": [
    "#saving dataframe as csv files\n",
    "myData.to_csv(\"df_to_CSV_File.csv\")"
   ]
  },
  {
   "cell_type": "code",
   "execution_count": 69,
   "metadata": {},
   "outputs": [
    {
     "name": "stdout",
     "output_type": "stream",
     "text": [
      " Volume in drive C is Windows\n",
      " Volume Serial Number is 5C98-3B99\n",
      "\n",
      " Directory of C:\\Users\\andaconda\\notebooks\\Week 4\n",
      "\n",
      "02/14/2023  08:21 PM    <DIR>          .\n",
      "02/14/2023  08:21 PM    <DIR>          ..\n",
      "02/09/2023  08:36 PM    <DIR>          .ipynb_checkpoints\n",
      "02/14/2023  07:33 PM               657 company_sales_data.csv\n",
      "02/14/2023  07:46 PM               103 demofile.txt\n",
      "02/14/2023  08:21 PM           147,343 df_to_CSV_File.csv\n",
      "02/14/2023  07:33 PM                65 example_1.json\n",
      "02/14/2023  07:33 PM               947 example_2.json\n",
      "02/14/2023  07:58 PM                38 file.txt\n",
      "02/14/2023  08:03 PM                 0 file1.txt\n",
      "02/14/2023  07:33 PM           134,584 medals.csv\n",
      "02/09/2023  08:37 PM            26,246 py_dictionaries.ipynb\n",
      "02/14/2023  08:20 PM            53,414 py_files.ipynb\n",
      "02/07/2023  08:35 PM             6,952 py_sets.ipynb\n",
      "02/07/2023  08:25 PM             6,678 py_tubles.ipynb\n",
      "              12 File(s)        377,027 bytes\n",
      "               3 Dir(s)  30,274,150,400 bytes free\n"
     ]
    }
   ],
   "source": [
    "ls"
   ]
  },
  {
   "cell_type": "code",
   "execution_count": 70,
   "metadata": {},
   "outputs": [],
   "source": [
    "# read data from a local csv file\n",
    "data = pd.read_csv(\"company_sales_data.csv\")"
   ]
  },
  {
   "cell_type": "code",
   "execution_count": 71,
   "metadata": {},
   "outputs": [
    {
     "data": {
      "text/html": [
       "<div>\n",
       "<style scoped>\n",
       "    .dataframe tbody tr th:only-of-type {\n",
       "        vertical-align: middle;\n",
       "    }\n",
       "\n",
       "    .dataframe tbody tr th {\n",
       "        vertical-align: top;\n",
       "    }\n",
       "\n",
       "    .dataframe thead th {\n",
       "        text-align: right;\n",
       "    }\n",
       "</style>\n",
       "<table border=\"1\" class=\"dataframe\">\n",
       "  <thead>\n",
       "    <tr style=\"text-align: right;\">\n",
       "      <th></th>\n",
       "      <th>month_number</th>\n",
       "      <th>facecream</th>\n",
       "      <th>facewash</th>\n",
       "      <th>toothpaste</th>\n",
       "      <th>bathingsoap</th>\n",
       "      <th>shampoo</th>\n",
       "      <th>moisturizer</th>\n",
       "      <th>total_units</th>\n",
       "      <th>total_profit</th>\n",
       "    </tr>\n",
       "  </thead>\n",
       "  <tbody>\n",
       "    <tr>\n",
       "      <th>0</th>\n",
       "      <td>1</td>\n",
       "      <td>2500</td>\n",
       "      <td>1500</td>\n",
       "      <td>5200</td>\n",
       "      <td>9200</td>\n",
       "      <td>1200</td>\n",
       "      <td>1500</td>\n",
       "      <td>21100</td>\n",
       "      <td>211000</td>\n",
       "    </tr>\n",
       "    <tr>\n",
       "      <th>1</th>\n",
       "      <td>2</td>\n",
       "      <td>2630</td>\n",
       "      <td>1200</td>\n",
       "      <td>5100</td>\n",
       "      <td>6100</td>\n",
       "      <td>2100</td>\n",
       "      <td>1200</td>\n",
       "      <td>18330</td>\n",
       "      <td>183300</td>\n",
       "    </tr>\n",
       "    <tr>\n",
       "      <th>2</th>\n",
       "      <td>3</td>\n",
       "      <td>2140</td>\n",
       "      <td>1340</td>\n",
       "      <td>4550</td>\n",
       "      <td>9550</td>\n",
       "      <td>3550</td>\n",
       "      <td>1340</td>\n",
       "      <td>22470</td>\n",
       "      <td>224700</td>\n",
       "    </tr>\n",
       "    <tr>\n",
       "      <th>3</th>\n",
       "      <td>4</td>\n",
       "      <td>3400</td>\n",
       "      <td>1130</td>\n",
       "      <td>5870</td>\n",
       "      <td>8870</td>\n",
       "      <td>1870</td>\n",
       "      <td>1130</td>\n",
       "      <td>22270</td>\n",
       "      <td>222700</td>\n",
       "    </tr>\n",
       "    <tr>\n",
       "      <th>4</th>\n",
       "      <td>5</td>\n",
       "      <td>3600</td>\n",
       "      <td>1740</td>\n",
       "      <td>4560</td>\n",
       "      <td>7760</td>\n",
       "      <td>1560</td>\n",
       "      <td>1740</td>\n",
       "      <td>20960</td>\n",
       "      <td>209600</td>\n",
       "    </tr>\n",
       "    <tr>\n",
       "      <th>5</th>\n",
       "      <td>6</td>\n",
       "      <td>2760</td>\n",
       "      <td>1555</td>\n",
       "      <td>4890</td>\n",
       "      <td>7490</td>\n",
       "      <td>1890</td>\n",
       "      <td>1555</td>\n",
       "      <td>20140</td>\n",
       "      <td>201400</td>\n",
       "    </tr>\n",
       "    <tr>\n",
       "      <th>6</th>\n",
       "      <td>7</td>\n",
       "      <td>2980</td>\n",
       "      <td>1120</td>\n",
       "      <td>4780</td>\n",
       "      <td>8980</td>\n",
       "      <td>1780</td>\n",
       "      <td>1120</td>\n",
       "      <td>29550</td>\n",
       "      <td>295500</td>\n",
       "    </tr>\n",
       "    <tr>\n",
       "      <th>7</th>\n",
       "      <td>8</td>\n",
       "      <td>3700</td>\n",
       "      <td>1400</td>\n",
       "      <td>5860</td>\n",
       "      <td>9960</td>\n",
       "      <td>2860</td>\n",
       "      <td>1400</td>\n",
       "      <td>36140</td>\n",
       "      <td>361400</td>\n",
       "    </tr>\n",
       "    <tr>\n",
       "      <th>8</th>\n",
       "      <td>9</td>\n",
       "      <td>3540</td>\n",
       "      <td>1780</td>\n",
       "      <td>6100</td>\n",
       "      <td>8100</td>\n",
       "      <td>2100</td>\n",
       "      <td>1780</td>\n",
       "      <td>23400</td>\n",
       "      <td>234000</td>\n",
       "    </tr>\n",
       "    <tr>\n",
       "      <th>9</th>\n",
       "      <td>10</td>\n",
       "      <td>1990</td>\n",
       "      <td>1890</td>\n",
       "      <td>8300</td>\n",
       "      <td>10300</td>\n",
       "      <td>2300</td>\n",
       "      <td>1890</td>\n",
       "      <td>26670</td>\n",
       "      <td>266700</td>\n",
       "    </tr>\n",
       "    <tr>\n",
       "      <th>10</th>\n",
       "      <td>11</td>\n",
       "      <td>2340</td>\n",
       "      <td>2100</td>\n",
       "      <td>7300</td>\n",
       "      <td>13300</td>\n",
       "      <td>2400</td>\n",
       "      <td>2100</td>\n",
       "      <td>41280</td>\n",
       "      <td>412800</td>\n",
       "    </tr>\n",
       "    <tr>\n",
       "      <th>11</th>\n",
       "      <td>12</td>\n",
       "      <td>2900</td>\n",
       "      <td>1760</td>\n",
       "      <td>7400</td>\n",
       "      <td>14400</td>\n",
       "      <td>1800</td>\n",
       "      <td>1760</td>\n",
       "      <td>30020</td>\n",
       "      <td>300200</td>\n",
       "    </tr>\n",
       "  </tbody>\n",
       "</table>\n",
       "</div>"
      ],
      "text/plain": [
       "    month_number  facecream  facewash  toothpaste  bathingsoap  shampoo  \\\n",
       "0              1       2500      1500        5200         9200     1200   \n",
       "1              2       2630      1200        5100         6100     2100   \n",
       "2              3       2140      1340        4550         9550     3550   \n",
       "3              4       3400      1130        5870         8870     1870   \n",
       "4              5       3600      1740        4560         7760     1560   \n",
       "5              6       2760      1555        4890         7490     1890   \n",
       "6              7       2980      1120        4780         8980     1780   \n",
       "7              8       3700      1400        5860         9960     2860   \n",
       "8              9       3540      1780        6100         8100     2100   \n",
       "9             10       1990      1890        8300        10300     2300   \n",
       "10            11       2340      2100        7300        13300     2400   \n",
       "11            12       2900      1760        7400        14400     1800   \n",
       "\n",
       "    moisturizer  total_units  total_profit  \n",
       "0          1500        21100        211000  \n",
       "1          1200        18330        183300  \n",
       "2          1340        22470        224700  \n",
       "3          1130        22270        222700  \n",
       "4          1740        20960        209600  \n",
       "5          1555        20140        201400  \n",
       "6          1120        29550        295500  \n",
       "7          1400        36140        361400  \n",
       "8          1780        23400        234000  \n",
       "9          1890        26670        266700  \n",
       "10         2100        41280        412800  \n",
       "11         1760        30020        300200  "
      ]
     },
     "execution_count": 71,
     "metadata": {},
     "output_type": "execute_result"
    }
   ],
   "source": [
    "data"
   ]
  },
  {
   "cell_type": "code",
   "execution_count": 72,
   "metadata": {},
   "outputs": [
    {
     "data": {
      "text/plain": [
       "0      1\n",
       "1      2\n",
       "2      3\n",
       "3      4\n",
       "4      5\n",
       "5      6\n",
       "6      7\n",
       "7      8\n",
       "8      9\n",
       "9     10\n",
       "10    11\n",
       "11    12\n",
       "Name: month_number, dtype: int64"
      ]
     },
     "execution_count": 72,
     "metadata": {},
     "output_type": "execute_result"
    }
   ],
   "source": [
    "data[\"month_number\"]"
   ]
  },
  {
   "cell_type": "code",
   "execution_count": 75,
   "metadata": {},
   "outputs": [],
   "source": [
    "month = data[\"month_number\"].tolist()"
   ]
  },
  {
   "cell_type": "code",
   "execution_count": 76,
   "metadata": {},
   "outputs": [
    {
     "data": {
      "text/plain": [
       "[1, 2, 3, 4, 5, 6, 7, 8, 9, 10, 11, 12]"
      ]
     },
     "execution_count": 76,
     "metadata": {},
     "output_type": "execute_result"
    }
   ],
   "source": [
    "month"
   ]
  },
  {
   "cell_type": "code",
   "execution_count": 77,
   "metadata": {},
   "outputs": [],
   "source": [
    "# json files \n",
    "import json"
   ]
  },
  {
   "cell_type": "code",
   "execution_count": 78,
   "metadata": {},
   "outputs": [],
   "source": [
    "# create a dictionary \n",
    "dt = {\"id\": \"4488\", \"name\": \"Ramadan\", \"department\": \"CIS\"\n",
    "}"
   ]
  },
  {
   "cell_type": "code",
   "execution_count": 79,
   "metadata": {},
   "outputs": [
    {
     "data": {
      "text/plain": [
       "dict"
      ]
     },
     "execution_count": 79,
     "metadata": {},
     "output_type": "execute_result"
    }
   ],
   "source": [
    "type(dt)"
   ]
  },
  {
   "cell_type": "code",
   "execution_count": 81,
   "metadata": {},
   "outputs": [],
   "source": [
    "jf = json.dumps(dt, indent=5)"
   ]
  },
  {
   "cell_type": "code",
   "execution_count": 82,
   "metadata": {},
   "outputs": [
    {
     "name": "stdout",
     "output_type": "stream",
     "text": [
      "{\n",
      "     \"id\": \"4488\",\n",
      "     \"name\": \"Ramadan\",\n",
      "     \"department\": \"CIS\"\n",
      "}\n"
     ]
    }
   ],
   "source": [
    "print(jf)"
   ]
  },
  {
   "cell_type": "code",
   "execution_count": 84,
   "metadata": {},
   "outputs": [],
   "source": [
    "# save data to json file\n",
    "outfile = open(\"sample.json\",\"w\")\n",
    "json.dump(dt,outfile)"
   ]
  },
  {
   "cell_type": "code",
   "execution_count": 85,
   "metadata": {},
   "outputs": [],
   "source": [
    "jf = open('example_1.json')\n",
    "jd = json.load(jf)"
   ]
  },
  {
   "cell_type": "code",
   "execution_count": 86,
   "metadata": {},
   "outputs": [
    {
     "data": {
      "text/plain": [
       "{'fruit': 'Apple', 'size': 'Large', 'color': 'Red'}"
      ]
     },
     "execution_count": 86,
     "metadata": {},
     "output_type": "execute_result"
    }
   ],
   "source": [
    "jd"
   ]
  },
  {
   "cell_type": "code",
   "execution_count": 87,
   "metadata": {},
   "outputs": [
    {
     "data": {
      "text/plain": [
       "dict"
      ]
     },
     "execution_count": 87,
     "metadata": {},
     "output_type": "execute_result"
    }
   ],
   "source": [
    "type(jd)"
   ]
  },
  {
   "cell_type": "code",
   "execution_count": 88,
   "metadata": {},
   "outputs": [
    {
     "data": {
      "text/plain": [
       "'Large'"
      ]
     },
     "execution_count": 88,
     "metadata": {},
     "output_type": "execute_result"
    }
   ],
   "source": [
    "jd['size']"
   ]
  },
  {
   "cell_type": "code",
   "execution_count": 89,
   "metadata": {},
   "outputs": [],
   "source": [
    "jf = open('example_2.json')\n",
    "jd = json.load(jf)"
   ]
  },
  {
   "cell_type": "code",
   "execution_count": 90,
   "metadata": {},
   "outputs": [
    {
     "data": {
      "text/plain": [
       "{'quiz': {'sport': {'q1': {'question': 'Which one is correct team name in NBA?',\n",
       "    'options': ['New York Bulls',\n",
       "     'Los Angeles Kings',\n",
       "     'Golden State Warriros',\n",
       "     'Huston Rocket'],\n",
       "    'answer': 'Huston Rocket'}},\n",
       "  'maths': {'q1': {'question': '5 + 7 = ?',\n",
       "    'options': ['10', '11', '12', '13'],\n",
       "    'answer': '12'},\n",
       "   'q2': {'question': '12 - 8 = ?',\n",
       "    'options': ['1', '2', '3', '4'],\n",
       "    'answer': '4'}}}}"
      ]
     },
     "execution_count": 90,
     "metadata": {},
     "output_type": "execute_result"
    }
   ],
   "source": [
    "jd"
   ]
  },
  {
   "cell_type": "code",
   "execution_count": 91,
   "metadata": {},
   "outputs": [
    {
     "name": "stdout",
     "output_type": "stream",
     "text": [
      "{'quiz': {'sport': {'q1': {'question': 'Which one is correct team name in NBA?', 'options': ['New York Bulls', 'Los Angeles Kings', 'Golden State Warriros', 'Huston Rocket'], 'answer': 'Huston Rocket'}}, 'maths': {'q1': {'question': '5 + 7 = ?', 'options': ['10', '11', '12', '13'], 'answer': '12'}, 'q2': {'question': '12 - 8 = ?', 'options': ['1', '2', '3', '4'], 'answer': '4'}}}}\n"
     ]
    }
   ],
   "source": [
    "print(jd)"
   ]
  },
  {
   "cell_type": "code",
   "execution_count": 96,
   "metadata": {},
   "outputs": [
    {
     "data": {
      "text/plain": [
       "{'question': 'Which one is correct team name in NBA?',\n",
       " 'options': ['New York Bulls',\n",
       "  'Los Angeles Kings',\n",
       "  'Golden State Warriros',\n",
       "  'Huston Rocket'],\n",
       " 'answer': 'Huston Rocket'}"
      ]
     },
     "execution_count": 96,
     "metadata": {},
     "output_type": "execute_result"
    }
   ],
   "source": [
    "jd['quiz']['sport']['q1']"
   ]
  },
  {
   "cell_type": "code",
   "execution_count": 97,
   "metadata": {},
   "outputs": [],
   "source": [
    "dt = jd['quiz']['sport']['q1']"
   ]
  },
  {
   "cell_type": "code",
   "execution_count": 98,
   "metadata": {},
   "outputs": [
    {
     "data": {
      "text/plain": [
       "'Which one is correct team name in NBA?'"
      ]
     },
     "execution_count": 98,
     "metadata": {},
     "output_type": "execute_result"
    }
   ],
   "source": [
    "dt['question']"
   ]
  },
  {
   "cell_type": "code",
   "execution_count": 100,
   "metadata": {},
   "outputs": [
    {
     "data": {
      "text/plain": [
       "['New York Bulls',\n",
       " 'Los Angeles Kings',\n",
       " 'Golden State Warriros',\n",
       " 'Huston Rocket']"
      ]
     },
     "execution_count": 100,
     "metadata": {},
     "output_type": "execute_result"
    }
   ],
   "source": [
    "dt['options']"
   ]
  },
  {
   "cell_type": "code",
   "execution_count": null,
   "metadata": {},
   "outputs": [],
   "source": []
  }
 ],
 "metadata": {
  "kernelspec": {
   "display_name": "Python 3.7 - default",
   "language": "python",
   "name": "py37_default"
  },
  "language_info": {
   "codemirror_mode": {
    "name": "ipython",
    "version": 3
   },
   "file_extension": ".py",
   "mimetype": "text/x-python",
   "name": "python",
   "nbconvert_exporter": "python",
   "pygments_lexer": "ipython3",
   "version": "3.7.7"
  }
 },
 "nbformat": 4,
 "nbformat_minor": 4
}
